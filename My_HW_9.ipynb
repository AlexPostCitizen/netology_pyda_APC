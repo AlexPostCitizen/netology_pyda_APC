{
 "cells": [
  {
   "cell_type": "markdown",
   "metadata": {},
   "source": [
    "Домашняя работа №9\n",
    "Задание 1\n",
    "\n",
    "Напишите функцию date_range, которая возвращает список дней между датами start_date и end_date. Даты должны вводиться в формате YYYY-MM-DD."
   ]
  },
  {
   "cell_type": "code",
   "execution_count": 1,
   "metadata": {},
   "outputs": [],
   "source": [
    "from datetime import datetime\n",
    "from datetime import timedelta"
   ]
  },
  {
   "cell_type": "code",
   "execution_count": 2,
   "metadata": {},
   "outputs": [
    {
     "name": "stdout",
     "output_type": "stream",
     "text": [
      "Please, enter start date here like \"YYYY-MM-DD\": 2019-01-29\n",
      "And the last one , please like \"YYYY-MM-DD\" : 2019-03-13\n",
      "[29, 30, 31, 1, 2, 3, 4, 5, 6, 7, 8, 9, 10, 11, 12, 13, 14, 15, 16, 17, 18, 19, 20, 21, 22, 23, 24, 25, 26, 27, 28, 1, 2, 3, 4, 5, 6, 7, 8, 9, 10, 11, 12, 13]\n"
     ]
    }
   ],
   "source": [
    "def date_range(the_first, the_last):\n",
    "    start_dt = datetime.strptime(the_first, '%Y-%m-%d')\n",
    "    end_dt = datetime.strptime(the_last, '%Y-%m-%d')\n",
    "    certain_dt = start_dt\n",
    "    days_list = []\n",
    "    while certain_dt <= end_dt:\n",
    "        days_list.append(certain_dt.day)\n",
    "        certain_dt += timedelta(days=1)\n",
    "    return print(days_list) \n",
    "\n",
    "start_dt_str = input(f'Please, enter start date here like \"YYYY-MM-DD\": ')\n",
    "end_dt_str = input(f'And the last one , please like \"YYYY-MM-DD\" : ')\n",
    "date_range(start_dt_str,end_dt_str)"
   ]
  },
  {
   "cell_type": "markdown",
   "metadata": {},
   "source": [
    "Домашняя работа №9\n",
    "Задание 2\n",
    "\n",
    "Дополните функцию из первого задания проверкой на корректность дат. В случае неверного формата или если start_date > end_date должен возвращаться пустой список.\n"
   ]
  },
  {
   "cell_type": "code",
   "execution_count": 7,
   "metadata": {},
   "outputs": [
    {
     "name": "stdout",
     "output_type": "stream",
     "text": [
      "Please, enter start date here like \"YYYY-MM-DD\": 2018-01-29\n",
      "And the last one , please like \"YYYY-MM-DD\" : 2018-01-02\n",
      "[]\n"
     ]
    }
   ],
   "source": [
    "def date_range(the_first, the_last):\n",
    "    days_list = []\n",
    "    start_dt = datetime.strptime(the_first, '%Y-%m-%d')\n",
    "    end_dt = datetime.strptime(the_last, '%Y-%m-%d')\n",
    "    try:\n",
    "        start_dt = datetime.strptime(the_first, '%Y-%m-%d')\n",
    "        end_dt = datetime.strptime(the_last, '%Y-%m-%d')\n",
    "    except:\n",
    "        print(f'the days list is: {days_list},please check the date format')\n",
    "    certain_dt = start_dt\n",
    "    while certain_dt <= end_dt:\n",
    "        days_list.append(certain_dt.day)\n",
    "        certain_dt += timedelta(days=1)\n",
    "    return print(days_list)\n",
    "start_dt_str = input(f'Please, enter start date here like \"YYYY-MM-DD\": ')\n",
    "end_dt_str = input(f'And the last one , please like \"YYYY-MM-DD\" : ')\n",
    "date_range3(start_dt_str,end_dt_str)\n"
   ]
  },
  {
   "cell_type": "markdown",
   "metadata": {},
   "source": [
    "Домашняя работа 9 Задание 3\n",
    "\n",
    "\n",
    "Дан поток дат в формате YYYY-MM-DD, в которых встречаются некорректные значения:\n",
    "stream = ['2018-04-02', '2018-02-29', '2018-19-02']\n",
    "Напишите функцию, которая проверяет эти даты на корректность. Т. е. для каждой даты возвращает True (дата корректна) или False (некорректная дата). \n"
   ]
  },
  {
   "cell_type": "code",
   "execution_count": 30,
   "metadata": {},
   "outputs": [],
   "source": [
    "stream = ['2018-04-02', '2018-02-29', '2018-19-02'] "
   ]
  },
  {
   "cell_type": "code",
   "execution_count": 112,
   "metadata": {},
   "outputs": [],
   "source": [
    "def stream_check(any_stream):\n",
    "    for some_record in any_stream :\n",
    "        try: \n",
    "            if datetime.strptime(some_record,'%Y-%m-%d'):\n",
    "                print(True) \n",
    "        except:\n",
    "            print(False) "
   ]
  },
  {
   "cell_type": "code",
   "execution_count": 113,
   "metadata": {},
   "outputs": [
    {
     "name": "stdout",
     "output_type": "stream",
     "text": [
      "True\n",
      "False\n",
      "False\n"
     ]
    }
   ],
   "source": [
    "stream_check(stream)"
   ]
  },
  {
   "cell_type": "markdown",
   "metadata": {},
   "source": [
    "Домашняя работа 9 Задание 4\n",
    "\n",
    "В последнем примере поиска по словарю мы использовали 3 столбца. Напишите функцию, которая формирует словарь для поиска по n столбцам.\n"
   ]
  },
  {
   "cell_type": "code",
   "execution_count": 134,
   "metadata": {},
   "outputs": [],
   "source": [
    "certain_file = [\n",
    "    ['99', '12349', '545', '101'],\n",
    "    ['98', '14264', '22', '1829'],\n",
    "    ['97','213','3211'],\n",
    "    ['96', '94036'],\n",
    "    [ '72']\n",
    "               ]"
   ]
  },
  {
   "cell_type": "code",
   "execution_count": 136,
   "metadata": {},
   "outputs": [],
   "source": [
    "def find_dict(some_file,n = 1):\n",
    "    final_dict = {}\n",
    "    for line in some_file:\n",
    "        final_dict_key = tuple(line[:n]) \n",
    "        final_dict[final_dict_key] = line[n:]\n",
    "    return final_dict"
   ]
  },
  {
   "cell_type": "code",
   "execution_count": 137,
   "metadata": {},
   "outputs": [
    {
     "data": {
      "text/plain": [
       "{('99',): ['12349', '545', '101'],\n",
       " ('98',): ['14264', '22', '1829'],\n",
       " ('97',): ['213', '3211'],\n",
       " ('96',): ['94036'],\n",
       " ('72',): []}"
      ]
     },
     "execution_count": 137,
     "metadata": {},
     "output_type": "execute_result"
    }
   ],
   "source": [
    "find_dict(certain_file)"
   ]
  }
 ],
 "metadata": {
  "kernelspec": {
   "display_name": "Python 3",
   "language": "python",
   "name": "python3"
  },
  "language_info": {
   "codemirror_mode": {
    "name": "ipython",
    "version": 3
   },
   "file_extension": ".py",
   "mimetype": "text/x-python",
   "name": "python",
   "nbconvert_exporter": "python",
   "pygments_lexer": "ipython3",
   "version": "3.7.3"
  }
 },
 "nbformat": 4,
 "nbformat_minor": 2
}
