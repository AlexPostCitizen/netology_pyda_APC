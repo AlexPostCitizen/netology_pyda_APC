{
 "cells": [
  {
   "cell_type": "markdown",
   "metadata": {},
   "source": [
    "# Итоговая работа по Python"
   ]
  },
  {
   "cell_type": "markdown",
   "metadata": {},
   "source": [
    "## 1. Загрузить файл hr.csv"
   ]
  },
  {
   "cell_type": "code",
   "execution_count": 1,
   "metadata": {},
   "outputs": [],
   "source": [
    "#сделаем необходимые импорты и загрузим датасет"
   ]
  },
  {
   "cell_type": "code",
   "execution_count": 40,
   "metadata": {},
   "outputs": [],
   "source": [
    "import pandas as pd\n",
    "import numpy as np\n",
    "from scipy import stats as stats\n",
    "import statistics\n",
    "%matplotlib inline\n",
    "import matplotlib.pyplot as plt\n",
    "import seaborn as sns "
   ]
  },
  {
   "cell_type": "code",
   "execution_count": 3,
   "metadata": {},
   "outputs": [
    {
     "data": {
      "text/html": [
       "<div>\n",
       "<style scoped>\n",
       "    .dataframe tbody tr th:only-of-type {\n",
       "        vertical-align: middle;\n",
       "    }\n",
       "\n",
       "    .dataframe tbody tr th {\n",
       "        vertical-align: top;\n",
       "    }\n",
       "\n",
       "    .dataframe thead th {\n",
       "        text-align: right;\n",
       "    }\n",
       "</style>\n",
       "<table border=\"1\" class=\"dataframe\">\n",
       "  <thead>\n",
       "    <tr style=\"text-align: right;\">\n",
       "      <th></th>\n",
       "      <th>satisfaction_level</th>\n",
       "      <th>last_evaluation</th>\n",
       "      <th>number_project</th>\n",
       "      <th>average_montly_hours</th>\n",
       "      <th>time_spend_company</th>\n",
       "      <th>Work_accident</th>\n",
       "      <th>left</th>\n",
       "      <th>promotion_last_5years</th>\n",
       "      <th>sales</th>\n",
       "      <th>salary</th>\n",
       "    </tr>\n",
       "  </thead>\n",
       "  <tbody>\n",
       "    <tr>\n",
       "      <th>0</th>\n",
       "      <td>0.38</td>\n",
       "      <td>0.53</td>\n",
       "      <td>2</td>\n",
       "      <td>157</td>\n",
       "      <td>3</td>\n",
       "      <td>0</td>\n",
       "      <td>1</td>\n",
       "      <td>0</td>\n",
       "      <td>sales</td>\n",
       "      <td>low</td>\n",
       "    </tr>\n",
       "    <tr>\n",
       "      <th>1</th>\n",
       "      <td>0.80</td>\n",
       "      <td>0.86</td>\n",
       "      <td>5</td>\n",
       "      <td>262</td>\n",
       "      <td>6</td>\n",
       "      <td>0</td>\n",
       "      <td>1</td>\n",
       "      <td>0</td>\n",
       "      <td>sales</td>\n",
       "      <td>medium</td>\n",
       "    </tr>\n",
       "    <tr>\n",
       "      <th>2</th>\n",
       "      <td>0.11</td>\n",
       "      <td>0.88</td>\n",
       "      <td>7</td>\n",
       "      <td>272</td>\n",
       "      <td>4</td>\n",
       "      <td>0</td>\n",
       "      <td>1</td>\n",
       "      <td>0</td>\n",
       "      <td>sales</td>\n",
       "      <td>medium</td>\n",
       "    </tr>\n",
       "    <tr>\n",
       "      <th>3</th>\n",
       "      <td>0.72</td>\n",
       "      <td>0.87</td>\n",
       "      <td>5</td>\n",
       "      <td>223</td>\n",
       "      <td>5</td>\n",
       "      <td>0</td>\n",
       "      <td>1</td>\n",
       "      <td>0</td>\n",
       "      <td>sales</td>\n",
       "      <td>low</td>\n",
       "    </tr>\n",
       "    <tr>\n",
       "      <th>4</th>\n",
       "      <td>0.37</td>\n",
       "      <td>0.52</td>\n",
       "      <td>2</td>\n",
       "      <td>159</td>\n",
       "      <td>3</td>\n",
       "      <td>0</td>\n",
       "      <td>1</td>\n",
       "      <td>0</td>\n",
       "      <td>sales</td>\n",
       "      <td>low</td>\n",
       "    </tr>\n",
       "  </tbody>\n",
       "</table>\n",
       "</div>"
      ],
      "text/plain": [
       "   satisfaction_level  last_evaluation  number_project  average_montly_hours  \\\n",
       "0                0.38             0.53               2                   157   \n",
       "1                0.80             0.86               5                   262   \n",
       "2                0.11             0.88               7                   272   \n",
       "3                0.72             0.87               5                   223   \n",
       "4                0.37             0.52               2                   159   \n",
       "\n",
       "   time_spend_company  Work_accident  left  promotion_last_5years  sales  \\\n",
       "0                   3              0     1                      0  sales   \n",
       "1                   6              0     1                      0  sales   \n",
       "2                   4              0     1                      0  sales   \n",
       "3                   5              0     1                      0  sales   \n",
       "4                   3              0     1                      0  sales   \n",
       "\n",
       "   salary  \n",
       "0     low  \n",
       "1  medium  \n",
       "2  medium  \n",
       "3     low  \n",
       "4     low  "
      ]
     },
     "execution_count": 3,
     "metadata": {},
     "output_type": "execute_result"
    }
   ],
   "source": [
    "hr_df = pd.read_csv('HR.csv') #изучим датасет\n",
    "hr_df.head(5)"
   ]
  },
  {
   "cell_type": "code",
   "execution_count": 4,
   "metadata": {},
   "outputs": [
    {
     "name": "stdout",
     "output_type": "stream",
     "text": [
      "<class 'pandas.core.frame.DataFrame'>\n",
      "RangeIndex: 14999 entries, 0 to 14998\n",
      "Data columns (total 10 columns):\n",
      "satisfaction_level       14999 non-null float64\n",
      "last_evaluation          14999 non-null float64\n",
      "number_project           14999 non-null int64\n",
      "average_montly_hours     14999 non-null int64\n",
      "time_spend_company       14999 non-null int64\n",
      "Work_accident            14999 non-null int64\n",
      "left                     14999 non-null int64\n",
      "promotion_last_5years    14999 non-null int64\n",
      "sales                    14999 non-null object\n",
      "salary                   14999 non-null object\n",
      "dtypes: float64(2), int64(6), object(2)\n",
      "memory usage: 1.1+ MB\n"
     ]
    }
   ],
   "source": [
    "hr_df.info()"
   ]
  },
  {
   "cell_type": "markdown",
   "metadata": {},
   "source": [
    "Итак, у нас датафрейм HR-отдела: 14999 строк, 10 столбцов. Каждая строка является записью о конкретном сотруднике, столбцы есть параметры по каждому из них.  NaN значений нет, нам повезло. 2 столбца имеют тип данных object. Первые 2000 записей - в данный момент уже уволенные сотрудники (хотя, может, кого-то приняли обратно, но то, скорее всего будет другая запись с соответствующим id)"
   ]
  },
  {
   "cell_type": "code",
   "execution_count": 5,
   "metadata": {},
   "outputs": [],
   "source": [
    "stsf_lvl = hr_df['satisfaction_level']  # объявим переменные\n",
    "lst_evlt = hr_df['last_evaluation']\n",
    "num_prj = hr_df['number_project']\n",
    "avg_mnt_hrs = hr_df['average_montly_hours']\n",
    "tim_sp_cpny = hr_df['time_spend_company']\n",
    "wrk_acd = hr_df['Work_accident']\n",
    "lft = hr_df['left']\n",
    "prm_lst_5y = hr_df['promotion_last_5years']\n",
    "sls = hr_df['sales']\n",
    "slr = hr_df['salary']"
   ]
  },
  {
   "cell_type": "markdown",
   "metadata": {},
   "source": [
    "## 2. Рассчитать основные статистики для переменных (среднее, медиана, мода, мин/макс, сред. отклонение)\n",
    "\n",
    "   Задание №2, вернее его часть, как нельзя лучше можно выполнить методом describe()"
   ]
  },
  {
   "cell_type": "code",
   "execution_count": 6,
   "metadata": {},
   "outputs": [
    {
     "data": {
      "text/html": [
       "<div>\n",
       "<style scoped>\n",
       "    .dataframe tbody tr th:only-of-type {\n",
       "        vertical-align: middle;\n",
       "    }\n",
       "\n",
       "    .dataframe tbody tr th {\n",
       "        vertical-align: top;\n",
       "    }\n",
       "\n",
       "    .dataframe thead th {\n",
       "        text-align: right;\n",
       "    }\n",
       "</style>\n",
       "<table border=\"1\" class=\"dataframe\">\n",
       "  <thead>\n",
       "    <tr style=\"text-align: right;\">\n",
       "      <th></th>\n",
       "      <th>satisfaction_level</th>\n",
       "      <th>last_evaluation</th>\n",
       "      <th>number_project</th>\n",
       "      <th>average_montly_hours</th>\n",
       "      <th>time_spend_company</th>\n",
       "      <th>Work_accident</th>\n",
       "      <th>left</th>\n",
       "      <th>promotion_last_5years</th>\n",
       "    </tr>\n",
       "  </thead>\n",
       "  <tbody>\n",
       "    <tr>\n",
       "      <th>count</th>\n",
       "      <td>14999.000000</td>\n",
       "      <td>14999.000000</td>\n",
       "      <td>14999.000000</td>\n",
       "      <td>14999.000000</td>\n",
       "      <td>14999.000000</td>\n",
       "      <td>14999.000000</td>\n",
       "      <td>14999.000000</td>\n",
       "      <td>14999.000000</td>\n",
       "    </tr>\n",
       "    <tr>\n",
       "      <th>mean</th>\n",
       "      <td>0.612834</td>\n",
       "      <td>0.716102</td>\n",
       "      <td>3.803054</td>\n",
       "      <td>201.050337</td>\n",
       "      <td>3.498233</td>\n",
       "      <td>0.144610</td>\n",
       "      <td>0.238083</td>\n",
       "      <td>0.021268</td>\n",
       "    </tr>\n",
       "    <tr>\n",
       "      <th>std</th>\n",
       "      <td>0.248631</td>\n",
       "      <td>0.171169</td>\n",
       "      <td>1.232592</td>\n",
       "      <td>49.943099</td>\n",
       "      <td>1.460136</td>\n",
       "      <td>0.351719</td>\n",
       "      <td>0.425924</td>\n",
       "      <td>0.144281</td>\n",
       "    </tr>\n",
       "    <tr>\n",
       "      <th>min</th>\n",
       "      <td>0.090000</td>\n",
       "      <td>0.360000</td>\n",
       "      <td>2.000000</td>\n",
       "      <td>96.000000</td>\n",
       "      <td>2.000000</td>\n",
       "      <td>0.000000</td>\n",
       "      <td>0.000000</td>\n",
       "      <td>0.000000</td>\n",
       "    </tr>\n",
       "    <tr>\n",
       "      <th>25%</th>\n",
       "      <td>0.440000</td>\n",
       "      <td>0.560000</td>\n",
       "      <td>3.000000</td>\n",
       "      <td>156.000000</td>\n",
       "      <td>3.000000</td>\n",
       "      <td>0.000000</td>\n",
       "      <td>0.000000</td>\n",
       "      <td>0.000000</td>\n",
       "    </tr>\n",
       "    <tr>\n",
       "      <th>50%</th>\n",
       "      <td>0.640000</td>\n",
       "      <td>0.720000</td>\n",
       "      <td>4.000000</td>\n",
       "      <td>200.000000</td>\n",
       "      <td>3.000000</td>\n",
       "      <td>0.000000</td>\n",
       "      <td>0.000000</td>\n",
       "      <td>0.000000</td>\n",
       "    </tr>\n",
       "    <tr>\n",
       "      <th>75%</th>\n",
       "      <td>0.820000</td>\n",
       "      <td>0.870000</td>\n",
       "      <td>5.000000</td>\n",
       "      <td>245.000000</td>\n",
       "      <td>4.000000</td>\n",
       "      <td>0.000000</td>\n",
       "      <td>0.000000</td>\n",
       "      <td>0.000000</td>\n",
       "    </tr>\n",
       "    <tr>\n",
       "      <th>max</th>\n",
       "      <td>1.000000</td>\n",
       "      <td>1.000000</td>\n",
       "      <td>7.000000</td>\n",
       "      <td>310.000000</td>\n",
       "      <td>10.000000</td>\n",
       "      <td>1.000000</td>\n",
       "      <td>1.000000</td>\n",
       "      <td>1.000000</td>\n",
       "    </tr>\n",
       "  </tbody>\n",
       "</table>\n",
       "</div>"
      ],
      "text/plain": [
       "       satisfaction_level  last_evaluation  number_project  \\\n",
       "count        14999.000000     14999.000000    14999.000000   \n",
       "mean             0.612834         0.716102        3.803054   \n",
       "std              0.248631         0.171169        1.232592   \n",
       "min              0.090000         0.360000        2.000000   \n",
       "25%              0.440000         0.560000        3.000000   \n",
       "50%              0.640000         0.720000        4.000000   \n",
       "75%              0.820000         0.870000        5.000000   \n",
       "max              1.000000         1.000000        7.000000   \n",
       "\n",
       "       average_montly_hours  time_spend_company  Work_accident          left  \\\n",
       "count          14999.000000        14999.000000   14999.000000  14999.000000   \n",
       "mean             201.050337            3.498233       0.144610      0.238083   \n",
       "std               49.943099            1.460136       0.351719      0.425924   \n",
       "min               96.000000            2.000000       0.000000      0.000000   \n",
       "25%              156.000000            3.000000       0.000000      0.000000   \n",
       "50%              200.000000            3.000000       0.000000      0.000000   \n",
       "75%              245.000000            4.000000       0.000000      0.000000   \n",
       "max              310.000000           10.000000       1.000000      1.000000   \n",
       "\n",
       "       promotion_last_5years  \n",
       "count           14999.000000  \n",
       "mean                0.021268  \n",
       "std                 0.144281  \n",
       "min                 0.000000  \n",
       "25%                 0.000000  \n",
       "50%                 0.000000  \n",
       "75%                 0.000000  \n",
       "max                 1.000000  "
      ]
     },
     "execution_count": 6,
     "metadata": {},
     "output_type": "execute_result"
    }
   ],
   "source": [
    "hr_df.describe(exclude  = [np.object]) #хотя и по умолчанию describe не посчитал статистики для object."
   ]
  },
  {
   "cell_type": "code",
   "execution_count": 7,
   "metadata": {},
   "outputs": [
    {
     "data": {
      "text/html": [
       "<div>\n",
       "<style scoped>\n",
       "    .dataframe tbody tr th:only-of-type {\n",
       "        vertical-align: middle;\n",
       "    }\n",
       "\n",
       "    .dataframe tbody tr th {\n",
       "        vertical-align: top;\n",
       "    }\n",
       "\n",
       "    .dataframe thead th {\n",
       "        text-align: right;\n",
       "    }\n",
       "</style>\n",
       "<table border=\"1\" class=\"dataframe\">\n",
       "  <thead>\n",
       "    <tr style=\"text-align: right;\">\n",
       "      <th></th>\n",
       "      <th>satisfaction_level</th>\n",
       "      <th>last_evaluation</th>\n",
       "      <th>number_project</th>\n",
       "      <th>average_montly_hours</th>\n",
       "      <th>time_spend_company</th>\n",
       "      <th>Work_accident</th>\n",
       "      <th>left</th>\n",
       "      <th>promotion_last_5years</th>\n",
       "      <th>sales</th>\n",
       "      <th>salary</th>\n",
       "    </tr>\n",
       "  </thead>\n",
       "  <tbody>\n",
       "    <tr>\n",
       "      <th>0</th>\n",
       "      <td>0.1</td>\n",
       "      <td>0.55</td>\n",
       "      <td>4.0</td>\n",
       "      <td>135</td>\n",
       "      <td>3.0</td>\n",
       "      <td>0.0</td>\n",
       "      <td>0.0</td>\n",
       "      <td>0.0</td>\n",
       "      <td>sales</td>\n",
       "      <td>low</td>\n",
       "    </tr>\n",
       "    <tr>\n",
       "      <th>1</th>\n",
       "      <td>NaN</td>\n",
       "      <td>NaN</td>\n",
       "      <td>NaN</td>\n",
       "      <td>156</td>\n",
       "      <td>NaN</td>\n",
       "      <td>NaN</td>\n",
       "      <td>NaN</td>\n",
       "      <td>NaN</td>\n",
       "      <td>NaN</td>\n",
       "      <td>NaN</td>\n",
       "    </tr>\n",
       "  </tbody>\n",
       "</table>\n",
       "</div>"
      ],
      "text/plain": [
       "   satisfaction_level  last_evaluation  number_project  average_montly_hours  \\\n",
       "0                 0.1             0.55             4.0                   135   \n",
       "1                 NaN              NaN             NaN                   156   \n",
       "\n",
       "   time_spend_company  Work_accident  left  promotion_last_5years  sales  \\\n",
       "0                 3.0            0.0   0.0                    0.0  sales   \n",
       "1                 NaN            NaN   NaN                    NaN    NaN   \n",
       "\n",
       "  salary  \n",
       "0    low  \n",
       "1    NaN  "
      ]
     },
     "execution_count": 7,
     "metadata": {},
     "output_type": "execute_result"
    }
   ],
   "source": [
    "hr_df.mode() #Поле average_montly_hours имеет сразу два одинаково наиболее встречающихся значения: 135 и 156 часов. "
   ]
  },
  {
   "cell_type": "markdown",
   "metadata": {},
   "source": [
    "Поля sales и salary вывели наиболее частотными значениями sales и low. Для полноты картины выведем уникальные значения этих полей:"
   ]
  },
  {
   "cell_type": "code",
   "execution_count": 8,
   "metadata": {},
   "outputs": [
    {
     "name": "stdout",
     "output_type": "stream",
     "text": [
      "col_sales: ['sales' 'accounting' 'hr' 'technical' 'support' 'management' 'IT'\n",
      " 'product_mng' 'marketing' 'RandD'],    col_salary: ['low' 'medium' 'high']\n"
     ]
    }
   ],
   "source": [
    "print(f'col_sales: {hr_df[\"sales\"].unique()},    col_salary: {hr_df[\"salary\"].unique()}')"
   ]
  },
  {
   "cell_type": "markdown",
   "metadata": {},
   "source": [
    " Строка выше говорит нам о том, что из категорий персонала (вкл. уволенных) наиболее часто встречающимися являются представители отдела продаж. \n",
    " Наиболее часто встречающийся среди персонала (вкл. 2000 уволенных) уровень з/п - \"низкий\"."
   ]
  },
  {
   "cell_type": "markdown",
   "metadata": {},
   "source": [
    "## 3. Рассчитать и визуализировать корреляционную матрицу для переменных"
   ]
  },
  {
   "cell_type": "code",
   "execution_count": 9,
   "metadata": {},
   "outputs": [
    {
     "data": {
      "text/plain": [
       "<matplotlib.axes._subplots.AxesSubplot at 0x1b66026ae80>"
      ]
     },
     "execution_count": 9,
     "metadata": {},
     "output_type": "execute_result"
    },
    {
     "data": {
      "image/png": "[encoded data removed]",
      "text/plain": [
       "<Figure size 540x540 with 2 Axes>"
      ]
     },
     "metadata": {
      "needs_background": "light"
     },
     "output_type": "display_data"
    }
   ],
   "source": [
    "plt.subplots(figsize=(7.5, 7.5)) \n",
    "plt.title(\"Корреляционная матрица для переменных\")\n",
    "sns.heatmap(hr_df.corr(), annot=True, cmap='RdYlGn_r',linewidths=1)      #voilà"
   ]
  },
  {
   "cell_type": "markdown",
   "metadata": {},
   "source": [
    "voilà"
   ]
  },
  {
   "cell_type": "markdown",
   "metadata": {},
   "source": [
    "## 4. Визуализировать несколько взаимосвязей между переменными"
   ]
  },
  {
   "cell_type": "code",
   "execution_count": 10,
   "metadata": {},
   "outputs": [
    {
     "data": {
      "text/plain": [
       "<matplotlib.collections.PathCollection at 0x1b66028e748>"
      ]
     },
     "execution_count": 10,
     "metadata": {},
     "output_type": "execute_result"
    },
    {
     "data": {
      "image/png": "[encoded data removed]",
      "text/plain": [
       "<Figure size 540x540 with 1 Axes>"
      ]
     },
     "metadata": {
      "needs_background": "light"
     },
     "output_type": "display_data"
    }
   ],
   "source": [
    "plt.subplots(figsize=(7.5, 7.5)) \n",
    "plt.title('Работоспособность к опыту')\n",
    "plt.xlabel('avg_hours')\n",
    "plt.ylabel('time_spend')\n",
    "plt.grid(True)\n",
    "plt.scatter(tim_sp_cpny,avg_mnt_hrs, c = 'blue')"
   ]
  },
  {
   "cell_type": "markdown",
   "metadata": {},
   "source": [
    "График зависимости стажа от среднемесячного количества рабочих часов свидетельствует об:\n",
    "1. бо́льшей загруженности работников 2-4 года работы.\n",
    "2. так сложилось исторически, что в данный момент в компании нет ни одного сотрудника со стажем в 9 лет. "
   ]
  },
  {
   "cell_type": "code",
   "execution_count": 11,
   "metadata": {},
   "outputs": [
    {
     "data": {
      "text/plain": [
       "<matplotlib.collections.PathCollection at 0x1b6602faf98>"
      ]
     },
     "execution_count": 11,
     "metadata": {},
     "output_type": "execute_result"
    },
    {
     "data": {
      "image/png": "[encoded data removed]",
      "text/plain": [
       "<Figure size 540x540 with 1 Axes>"
      ]
     },
     "metadata": {
      "needs_background": "light"
     },
     "output_type": "display_data"
    }
   ],
   "source": [
    "plt.subplots(figsize=(7.5, 7.5)) \n",
    "plt.title('Проектозагруженность в часах в месяц')\n",
    "plt.xlabel('avg_hours')\n",
    "plt.ylabel('number_of_pojects')\n",
    "plt.grid(True)\n",
    "plt.scatter(num_prj, avg_mnt_hrs, c = 'blue')"
   ]
  },
  {
   "cell_type": "code",
   "execution_count": 12,
   "metadata": {},
   "outputs": [
    {
     "data": {
      "text/plain": [
       "133"
      ]
     },
     "execution_count": 12,
     "metadata": {},
     "output_type": "execute_result"
    }
   ],
   "source": [
    "hr_df[hr_df['number_project'] == 7]['average_montly_hours'].min()"
   ]
  },
  {
   "cell_type": "markdown",
   "metadata": {},
   "source": [
    "График зависимости  от среднемесячного количества рабочих часов свидетельствует о:\n",
    "меньшем минимальном пороге рабочих часов для работников с 7 проектами, - 133 часа (и то значение, по сути, - выброс). Подавляющее большинство 7-проектных проводит за работой более 200 часов в месяц"
   ]
  },
  {
   "cell_type": "code",
   "execution_count": 13,
   "metadata": {},
   "outputs": [
    {
     "data": {
      "text/plain": [
       "<matplotlib.collections.PathCollection at 0x1b6603649b0>"
      ]
     },
     "execution_count": 13,
     "metadata": {},
     "output_type": "execute_result"
    },
    {
     "data": {
      "image/png": "[encoded data removed]",
      "text/plain": [
       "<Figure size 540x540 with 1 Axes>"
      ]
     },
     "metadata": {
      "needs_background": "light"
     },
     "output_type": "display_data"
    }
   ],
   "source": [
    "plt.subplots(figsize=(7.5, 7.5)) \n",
    "plt.title('Удовлетворение от часов в месяц')\n",
    "plt.xlabel('satisfaction_level')\n",
    "plt.ylabel('avg_hours')\n",
    "plt.grid(True)\n",
    "plt.scatter(stsf_lvl, avg_mnt_hrs, c = 'yellow')"
   ]
  },
  {
   "cell_type": "markdown",
   "metadata": {},
   "source": [
    "График выше свидетельствует о наличии довольно многочисленной группы сотрудников, имеющих удовлетворение 0,47 и выше (по шкале от 0 до 1) и проводящих за работой от 140 часов в месяц и выше. Такая категория сотрудников подавляющим большинством не является, но это некий \"средний уровень\". Также можно выделить когорту совершенно неудовлетворённых работой, и проводящих на ней очень много времени до 300 часов и более. "
   ]
  },
  {
   "cell_type": "markdown",
   "metadata": {},
   "source": [
    "## 5. с использованием t-test статистики проверить взаимосвязи между несколькими переменными."
   ]
  },
  {
   "cell_type": "markdown",
   "metadata": {},
   "source": [
    "Для применения t-test статистики  желательно (т.к. есть допущения к применению t-статистики и для других распределений)  убедиться в том, что данные по которым мы будем считать t-критерий, распределены нормально."
   ]
  },
  {
   "cell_type": "code",
   "execution_count": 14,
   "metadata": {},
   "outputs": [
    {
     "data": {
      "image/png": "[encoded data removed]",
      "text/plain": [
       "<Figure size 540x540 with 1 Axes>"
      ]
     },
     "metadata": {
      "needs_background": "light"
     },
     "output_type": "display_data"
    }
   ],
   "source": [
    "plt.subplots(figsize=(7.5, 7.5)) \n",
    "n, bins, patches = plt.hist(hr_df['average_montly_hours'], 100, facecolor='b')\n",
    "plt.title('Частотность столбца average_montly_hours')\n",
    "plt.xlabel('average_montly_hours')\n",
    "plt.ylabel('частота')\n",
    "plt.grid(True)"
   ]
  },
  {
   "cell_type": "markdown",
   "metadata": {},
   "source": [
    "с некоторым допущением, примем распределение за пригодное к t-test"
   ]
  },
  {
   "cell_type": "markdown",
   "metadata": {},
   "source": [
    "Гипотеза: сотрудники отдела продаж работают столько же, сколько и все (...ну нравится мне работать с полем среднего кол-ва рабочих часов, в трудовую инспекцию пойду наверное)))"
   ]
  },
  {
   "cell_type": "markdown",
   "metadata": {},
   "source": [
    "в первую очередь, чтобы анализировать только действующих сотрудников, уточним нашу выборку:"
   ]
  },
  {
   "cell_type": "code",
   "execution_count": 15,
   "metadata": {},
   "outputs": [],
   "source": [
    "actual_stuff = hr_df[hr_df['left'] == 0]"
   ]
  },
  {
   "cell_type": "code",
   "execution_count": 16,
   "metadata": {},
   "outputs": [
    {
     "data": {
      "text/plain": [
       "Ttest_indResult(statistic=0.7344023431557384, pvalue=0.4627186297678898)"
      ]
     },
     "execution_count": 16,
     "metadata": {},
     "output_type": "execute_result"
    }
   ],
   "source": [
    "stats.ttest_ind(\n",
    "   actual_stuff[actual_stuff['sales'] == 'sales']['average_montly_hours'],\n",
    "   actual_stuff[actual_stuff['sales'] != 'sales']['average_montly_hours']\n",
    ")"
   ]
  },
  {
   "cell_type": "markdown",
   "metadata": {},
   "source": [
    "Уровень p-value даёт нам основание принять нулевую гипотезу. Её легко проверить:"
   ]
  },
  {
   "cell_type": "code",
   "execution_count": 17,
   "metadata": {},
   "outputs": [
    {
     "name": "stdout",
     "output_type": "stream",
     "text": [
      "среднее кол-во рабочих часов в месяц отдела продаж: 199.57, остальных: 198.87\n"
     ]
    }
   ],
   "source": [
    "salers = actual_stuff[actual_stuff['sales'] == 'sales']['average_montly_hours'].mean()\n",
    "non_salers = actual_stuff[actual_stuff['sales'] != 'sales']['average_montly_hours'].mean()\n",
    "print(f'среднее кол-во рабочих часов в месяц отдела продаж: {round(salers,2)}, остальных: {round(non_salers,2)}')"
   ]
  },
  {
   "cell_type": "markdown",
   "metadata": {},
   "source": [
    "Ещё гипотеза: люди хотят, в основном, денег (или уровень удовлетворенности сотрудников и их зарплата)"
   ]
  },
  {
   "cell_type": "code",
   "execution_count": 18,
   "metadata": {},
   "outputs": [
    {
     "data": {
      "text/plain": [
       "Ttest_indResult(statistic=2.276898581788068, pvalue=0.022825680749007052)"
      ]
     },
     "execution_count": 18,
     "metadata": {},
     "output_type": "execute_result"
    }
   ],
   "source": [
    "stats.ttest_ind(\n",
    "    actual_stuff[actual_stuff['salary'] == 'low']['satisfaction_level'],\n",
    "    actual_stuff[actual_stuff['salary'] == 'high']['satisfaction_level']\n",
    ")"
   ]
  },
  {
   "cell_type": "markdown",
   "metadata": {},
   "source": [
    "Низкое значение p-value даёт основание гипотезу отвергнуть. Хотя и сперва существует тенденция к увеличению удовлетворённости с ростом зарплаты, люди, всё же хотят, в основном не денег, и получая их, уровень удовлетворённость даже немного снижается"
   ]
  },
  {
   "cell_type": "code",
   "execution_count": 19,
   "metadata": {},
   "outputs": [
    {
     "data": {
      "text/plain": [
       "[<matplotlib.lines.Line2D at 0x1b660829a90>]"
      ]
     },
     "execution_count": 19,
     "metadata": {},
     "output_type": "execute_result"
    },
    {
     "data": {
      "image/png": "[encoded data removed]",
      "text/plain": [
       "<Figure size 540x540 with 1 Axes>"
      ]
     },
     "metadata": {
      "needs_background": "light"
     },
     "output_type": "display_data"
    }
   ],
   "source": [
    "lw = actual_stuff[actual_stuff['salary'] == 'low']['satisfaction_level'].mean()\n",
    "md = actual_stuff[actual_stuff['salary'] == 'medium']['satisfaction_level'].mean()\n",
    "hg = actual_stuff[actual_stuff['salary'] == 'high']['satisfaction_level'].mean()\n",
    "plt.subplots(figsize=(7.5, 7.5)) \n",
    "plt.title('Деньги и удовлетворённость')\n",
    "plt.xlabel('уровень зарплат')\n",
    "plt.ylabel('удовлетворённость')\n",
    "plt.grid(True)\n",
    "plt.plot([lw,md,hg], marker='x', linestyle='dashed', linewidth=1, markersize=5) "
   ]
  },
  {
   "cell_type": "markdown",
   "metadata": {},
   "source": [
    "## 6. Рассчитать сколько работников работает в каждом департаменте."
   ]
  },
  {
   "cell_type": "markdown",
   "metadata": {},
   "source": [
    "Здесь я решил не ходить лёгким путём, и , хотя позже воспользовался методами groupby и agg, оставил в задании 6 для разнообразия способ вывода нужной матрицы a-la Microsoft Power BI Power Query"
   ]
  },
  {
   "cell_type": "code",
   "execution_count": 20,
   "metadata": {},
   "outputs": [
    {
     "data": {
      "text/html": [
       "<style  type=\"text/css\" >\n",
       "    #T_9a33a8e4_f6f4_11e9_a375_b00594fe16f9row0_col0 {\n",
       "            width:  10em;\n",
       "             height:  80%;\n",
       "            background:  linear-gradient(90deg,#d65f5f 30.5%, transparent 30.5%);\n",
       "        }    #T_9a33a8e4_f6f4_11e9_a375_b00594fe16f9row0_col1 {\n",
       "            width:  10em;\n",
       "             height:  80%;\n",
       "            background:  linear-gradient(90deg,#d65f5f 30.5%, transparent 30.5%);\n",
       "        }    #T_9a33a8e4_f6f4_11e9_a375_b00594fe16f9row1_col0 {\n",
       "            width:  10em;\n",
       "             height:  80%;\n",
       "            background:  linear-gradient(90deg,#d65f5f 21.3%, transparent 21.3%);\n",
       "        }    #T_9a33a8e4_f6f4_11e9_a375_b00594fe16f9row1_col1 {\n",
       "            width:  10em;\n",
       "             height:  80%;\n",
       "            background:  linear-gradient(90deg,#d65f5f 21.3%, transparent 21.3%);\n",
       "        }    #T_9a33a8e4_f6f4_11e9_a375_b00594fe16f9row2_col0 {\n",
       "            width:  10em;\n",
       "             height:  80%;\n",
       "            background:  linear-gradient(90deg,#d65f5f 18.0%, transparent 18.0%);\n",
       "        }    #T_9a33a8e4_f6f4_11e9_a375_b00594fe16f9row2_col1 {\n",
       "            width:  10em;\n",
       "             height:  80%;\n",
       "            background:  linear-gradient(90deg,#d65f5f 18.0%, transparent 18.0%);\n",
       "        }    #T_9a33a8e4_f6f4_11e9_a375_b00594fe16f9row3_col0 {\n",
       "            width:  10em;\n",
       "             height:  80%;\n",
       "            background:  linear-gradient(90deg,#d65f5f 16.8%, transparent 16.8%);\n",
       "        }    #T_9a33a8e4_f6f4_11e9_a375_b00594fe16f9row3_col1 {\n",
       "            width:  10em;\n",
       "             height:  80%;\n",
       "            background:  linear-gradient(90deg,#d65f5f 16.8%, transparent 16.8%);\n",
       "        }    #T_9a33a8e4_f6f4_11e9_a375_b00594fe16f9row4_col0 {\n",
       "            width:  10em;\n",
       "             height:  80%;\n",
       "            background:  linear-gradient(90deg,#d65f5f 17.2%, transparent 17.2%);\n",
       "        }    #T_9a33a8e4_f6f4_11e9_a375_b00594fe16f9row4_col1 {\n",
       "            width:  10em;\n",
       "             height:  80%;\n",
       "            background:  linear-gradient(90deg,#d65f5f 17.3%, transparent 17.3%);\n",
       "        }    #T_9a33a8e4_f6f4_11e9_a375_b00594fe16f9row5_col0 {\n",
       "            width:  10em;\n",
       "             height:  80%;\n",
       "            background:  linear-gradient(90deg,#d65f5f 21.0%, transparent 21.0%);\n",
       "        }    #T_9a33a8e4_f6f4_11e9_a375_b00594fe16f9row5_col1 {\n",
       "            width:  10em;\n",
       "             height:  80%;\n",
       "            background:  linear-gradient(90deg,#d65f5f 21.0%, transparent 21.0%);\n",
       "        }    #T_9a33a8e4_f6f4_11e9_a375_b00594fe16f9row6_col0 {\n",
       "            width:  10em;\n",
       "             height:  80%;\n",
       "            background:  linear-gradient(90deg,#d65f5f 22.5%, transparent 22.5%);\n",
       "        }    #T_9a33a8e4_f6f4_11e9_a375_b00594fe16f9row6_col1 {\n",
       "            width:  10em;\n",
       "             height:  80%;\n",
       "            background:  linear-gradient(90deg,#d65f5f 22.5%, transparent 22.5%);\n",
       "        }    #T_9a33a8e4_f6f4_11e9_a375_b00594fe16f9row7_col0 {\n",
       "            width:  10em;\n",
       "             height:  80%;\n",
       "            background:  linear-gradient(90deg,#d65f5f 100.0%, transparent 100.0%);\n",
       "        }    #T_9a33a8e4_f6f4_11e9_a375_b00594fe16f9row7_col1 {\n",
       "            width:  10em;\n",
       "             height:  80%;\n",
       "            background:  linear-gradient(90deg,#d65f5f 100.0%, transparent 100.0%);\n",
       "        }    #T_9a33a8e4_f6f4_11e9_a375_b00594fe16f9row8_col0 {\n",
       "            width:  10em;\n",
       "             height:  80%;\n",
       "            background:  linear-gradient(90deg,#d65f5f 53.6%, transparent 53.6%);\n",
       "        }    #T_9a33a8e4_f6f4_11e9_a375_b00594fe16f9row8_col1 {\n",
       "            width:  10em;\n",
       "             height:  80%;\n",
       "            background:  linear-gradient(90deg,#d65f5f 53.6%, transparent 53.6%);\n",
       "        }    #T_9a33a8e4_f6f4_11e9_a375_b00594fe16f9row9_col0 {\n",
       "            width:  10em;\n",
       "             height:  80%;\n",
       "            background:  linear-gradient(90deg,#d65f5f 64.7%, transparent 64.7%);\n",
       "        }    #T_9a33a8e4_f6f4_11e9_a375_b00594fe16f9row9_col1 {\n",
       "            width:  10em;\n",
       "             height:  80%;\n",
       "            background:  linear-gradient(90deg,#d65f5f 64.7%, transparent 64.7%);\n",
       "        }</style><table id=\"T_9a33a8e4_f6f4_11e9_a375_b00594fe16f9\" ><thead>    <tr>        <th class=\"blank level0\" ></th>        <th class=\"col_heading level0 col0\" >stuff_quantity</th>        <th class=\"col_heading level0 col1\" >percentage</th>    </tr>    <tr>        <th class=\"index_name level0\" >sales</th>        <th class=\"blank\" ></th>        <th class=\"blank\" ></th>    </tr></thead><tbody>\n",
       "                <tr>\n",
       "                        <th id=\"T_9a33a8e4_f6f4_11e9_a375_b00594fe16f9level0_row0\" class=\"row_heading level0 row0\" >IT</th>\n",
       "                        <td id=\"T_9a33a8e4_f6f4_11e9_a375_b00594fe16f9row0_col0\" class=\"data row0 col0\" >954</td>\n",
       "                        <td id=\"T_9a33a8e4_f6f4_11e9_a375_b00594fe16f9row0_col1\" class=\"data row0 col1\" >8.35</td>\n",
       "            </tr>\n",
       "            <tr>\n",
       "                        <th id=\"T_9a33a8e4_f6f4_11e9_a375_b00594fe16f9level0_row1\" class=\"row_heading level0 row1\" >RandD</th>\n",
       "                        <td id=\"T_9a33a8e4_f6f4_11e9_a375_b00594fe16f9row1_col0\" class=\"data row1 col0\" >666</td>\n",
       "                        <td id=\"T_9a33a8e4_f6f4_11e9_a375_b00594fe16f9row1_col1\" class=\"data row1 col1\" >5.83</td>\n",
       "            </tr>\n",
       "            <tr>\n",
       "                        <th id=\"T_9a33a8e4_f6f4_11e9_a375_b00594fe16f9level0_row2\" class=\"row_heading level0 row2\" >accounting</th>\n",
       "                        <td id=\"T_9a33a8e4_f6f4_11e9_a375_b00594fe16f9row2_col0\" class=\"data row2 col0\" >563</td>\n",
       "                        <td id=\"T_9a33a8e4_f6f4_11e9_a375_b00594fe16f9row2_col1\" class=\"data row2 col1\" >4.93</td>\n",
       "            </tr>\n",
       "            <tr>\n",
       "                        <th id=\"T_9a33a8e4_f6f4_11e9_a375_b00594fe16f9level0_row3\" class=\"row_heading level0 row3\" >hr</th>\n",
       "                        <td id=\"T_9a33a8e4_f6f4_11e9_a375_b00594fe16f9row3_col0\" class=\"data row3 col0\" >524</td>\n",
       "                        <td id=\"T_9a33a8e4_f6f4_11e9_a375_b00594fe16f9row3_col1\" class=\"data row3 col1\" >4.59</td>\n",
       "            </tr>\n",
       "            <tr>\n",
       "                        <th id=\"T_9a33a8e4_f6f4_11e9_a375_b00594fe16f9level0_row4\" class=\"row_heading level0 row4\" >management</th>\n",
       "                        <td id=\"T_9a33a8e4_f6f4_11e9_a375_b00594fe16f9row4_col0\" class=\"data row4 col0\" >539</td>\n",
       "                        <td id=\"T_9a33a8e4_f6f4_11e9_a375_b00594fe16f9row4_col1\" class=\"data row4 col1\" >4.72</td>\n",
       "            </tr>\n",
       "            <tr>\n",
       "                        <th id=\"T_9a33a8e4_f6f4_11e9_a375_b00594fe16f9level0_row5\" class=\"row_heading level0 row5\" >marketing</th>\n",
       "                        <td id=\"T_9a33a8e4_f6f4_11e9_a375_b00594fe16f9row5_col0\" class=\"data row5 col0\" >655</td>\n",
       "                        <td id=\"T_9a33a8e4_f6f4_11e9_a375_b00594fe16f9row5_col1\" class=\"data row5 col1\" >5.73</td>\n",
       "            </tr>\n",
       "            <tr>\n",
       "                        <th id=\"T_9a33a8e4_f6f4_11e9_a375_b00594fe16f9level0_row6\" class=\"row_heading level0 row6\" >product_mng</th>\n",
       "                        <td id=\"T_9a33a8e4_f6f4_11e9_a375_b00594fe16f9row6_col0\" class=\"data row6 col0\" >704</td>\n",
       "                        <td id=\"T_9a33a8e4_f6f4_11e9_a375_b00594fe16f9row6_col1\" class=\"data row6 col1\" >6.16</td>\n",
       "            </tr>\n",
       "            <tr>\n",
       "                        <th id=\"T_9a33a8e4_f6f4_11e9_a375_b00594fe16f9level0_row7\" class=\"row_heading level0 row7\" >sales</th>\n",
       "                        <td id=\"T_9a33a8e4_f6f4_11e9_a375_b00594fe16f9row7_col0\" class=\"data row7 col0\" >3126</td>\n",
       "                        <td id=\"T_9a33a8e4_f6f4_11e9_a375_b00594fe16f9row7_col1\" class=\"data row7 col1\" >27.35</td>\n",
       "            </tr>\n",
       "            <tr>\n",
       "                        <th id=\"T_9a33a8e4_f6f4_11e9_a375_b00594fe16f9level0_row8\" class=\"row_heading level0 row8\" >support</th>\n",
       "                        <td id=\"T_9a33a8e4_f6f4_11e9_a375_b00594fe16f9row8_col0\" class=\"data row8 col0\" >1674</td>\n",
       "                        <td id=\"T_9a33a8e4_f6f4_11e9_a375_b00594fe16f9row8_col1\" class=\"data row8 col1\" >14.65</td>\n",
       "            </tr>\n",
       "            <tr>\n",
       "                        <th id=\"T_9a33a8e4_f6f4_11e9_a375_b00594fe16f9level0_row9\" class=\"row_heading level0 row9\" >technical</th>\n",
       "                        <td id=\"T_9a33a8e4_f6f4_11e9_a375_b00594fe16f9row9_col0\" class=\"data row9 col0\" >2023</td>\n",
       "                        <td id=\"T_9a33a8e4_f6f4_11e9_a375_b00594fe16f9row9_col1\" class=\"data row9 col1\" >17.7</td>\n",
       "            </tr>\n",
       "    </tbody></table>"
      ],
      "text/plain": [
       "<pandas.io.formats.style.Styler at 0x1b65e73ec18>"
      ]
     },
     "execution_count": 20,
     "metadata": {},
     "output_type": "execute_result"
    }
   ],
   "source": [
    "dep_cnt = actual_stuff.pivot_table(\n",
    "    index = 'sales', aggfunc = 'count'\n",
    "    ).rename(columns = {'time_spend_company':'stuff_quantity'}).T   \n",
    "dep_cnt = dep_cnt.iloc[8:,].T\n",
    "def calc_percentage1(x):\n",
    "    perctg = float(x/dep_cnt['stuff_quantity'].sum())*100 \n",
    "    return round(perctg,2)\n",
    "dep_cnt['percentage'] = dep_cnt.apply(\n",
    "    calc_percentage1, axis = 1)\n",
    "dep_cnt.style.bar(align='mid')"
   ]
  },
  {
   "cell_type": "markdown",
   "metadata": {},
   "source": [
    "В лидерах по численности отделы продаж и АХО(?, судя по наличию отделов IT и support)"
   ]
  },
  {
   "cell_type": "markdown",
   "metadata": {},
   "source": [
    "## 7. Показать распределение сотрудников по зарплатам."
   ]
  },
  {
   "cell_type": "markdown",
   "metadata": {},
   "source": [
    "На этот раз не будем усложнять и воспользуемся методами groupby и agg. В моей версии итоговой представлены старые синтаксические варианты методов pandas groupby и agg.Параметр sort = False в groupby задан согласно рекомандации документации pandas"
   ]
  },
  {
   "cell_type": "code",
   "execution_count": 21,
   "metadata": {},
   "outputs": [
    {
     "data": {
      "text/html": [
       "<div>\n",
       "<style scoped>\n",
       "    .dataframe tbody tr th:only-of-type {\n",
       "        vertical-align: middle;\n",
       "    }\n",
       "\n",
       "    .dataframe tbody tr th {\n",
       "        vertical-align: top;\n",
       "    }\n",
       "\n",
       "    .dataframe thead th {\n",
       "        text-align: right;\n",
       "    }\n",
       "</style>\n",
       "<table border=\"1\" class=\"dataframe\">\n",
       "  <thead>\n",
       "    <tr style=\"text-align: right;\">\n",
       "      <th></th>\n",
       "      <th>count</th>\n",
       "      <th>percentage</th>\n",
       "    </tr>\n",
       "    <tr>\n",
       "      <th>salary</th>\n",
       "      <th></th>\n",
       "      <th></th>\n",
       "    </tr>\n",
       "  </thead>\n",
       "  <tbody>\n",
       "    <tr>\n",
       "      <th>high</th>\n",
       "      <td>1155</td>\n",
       "      <td>10.11</td>\n",
       "    </tr>\n",
       "    <tr>\n",
       "      <th>medium</th>\n",
       "      <td>5129</td>\n",
       "      <td>44.88</td>\n",
       "    </tr>\n",
       "    <tr>\n",
       "      <th>low</th>\n",
       "      <td>5144</td>\n",
       "      <td>45.01</td>\n",
       "    </tr>\n",
       "  </tbody>\n",
       "</table>\n",
       "</div>"
      ],
      "text/plain": [
       "        count  percentage\n",
       "salary                   \n",
       "high     1155       10.11\n",
       "medium   5129       44.88\n",
       "low      5144       45.01"
      ]
     },
     "execution_count": 21,
     "metadata": {},
     "output_type": "execute_result"
    }
   ],
   "source": [
    "wage_cnt = actual_stuff.groupby(\n",
    "    'salary',sort = False)['number_project'].agg(['count']).sort_values(by=['count'])\n",
    "def calc_percentage2(x):\n",
    "    perctg = float(x/wage_cnt['count'].sum())*100 \n",
    "    return round(perctg,2)\n",
    "wage_cnt['percentage'] = wage_cnt.apply(calc_percentage2, axis = 1)\n",
    "wage_cnt"
   ]
  },
  {
   "cell_type": "markdown",
   "metadata": {},
   "source": [
    "Из 11428 сотрудников примерно 10% получают высокую з/п, остальные 90% - почти пополам, - среднюю и низкую"
   ]
  },
  {
   "cell_type": "markdown",
   "metadata": {},
   "source": [
    "## 8. Показать распределение сотрудников по зарплатам совместно с департаментами"
   ]
  },
  {
   "cell_type": "code",
   "execution_count": 22,
   "metadata": {},
   "outputs": [
    {
     "data": {
      "text/html": [
       "<style  type=\"text/css\" >\n",
       "    #T_9a6c1522_f6f4_11e9_a06d_b00594fe16f9row0_col2 {\n",
       "            width:  10em;\n",
       "             height:  80%;\n",
       "            background:  linear-gradient(90deg,#d65f5f 100.0%, transparent 100.0%);\n",
       "        }    #T_9a6c1522_f6f4_11e9_a06d_b00594fe16f9row0_col3 {\n",
       "            width:  10em;\n",
       "             height:  80%;\n",
       "            background:  linear-gradient(90deg,#d65f5f 100.0%, transparent 100.0%);\n",
       "        }    #T_9a6c1522_f6f4_11e9_a06d_b00594fe16f9row1_col2 {\n",
       "            width:  10em;\n",
       "             height:  80%;\n",
       "            background:  linear-gradient(90deg,#d65f5f 95.4%, transparent 95.4%);\n",
       "        }    #T_9a6c1522_f6f4_11e9_a06d_b00594fe16f9row1_col3 {\n",
       "            width:  10em;\n",
       "             height:  80%;\n",
       "            background:  linear-gradient(90deg,#d65f5f 95.5%, transparent 95.5%);\n",
       "        }    #T_9a6c1522_f6f4_11e9_a06d_b00594fe16f9row2_col2 {\n",
       "            width:  10em;\n",
       "             height:  80%;\n",
       "            background:  linear-gradient(90deg,#d65f5f 67.7%, transparent 67.7%);\n",
       "        }    #T_9a6c1522_f6f4_11e9_a06d_b00594fe16f9row2_col3 {\n",
       "            width:  10em;\n",
       "             height:  80%;\n",
       "            background:  linear-gradient(90deg,#d65f5f 67.7%, transparent 67.7%);\n",
       "        }    #T_9a6c1522_f6f4_11e9_a06d_b00594fe16f9row3_col2 {\n",
       "            width:  10em;\n",
       "             height:  80%;\n",
       "            background:  linear-gradient(90deg,#d65f5f 58.1%, transparent 58.1%);\n",
       "        }    #T_9a6c1522_f6f4_11e9_a06d_b00594fe16f9row3_col3 {\n",
       "            width:  10em;\n",
       "             height:  80%;\n",
       "            background:  linear-gradient(90deg,#d65f5f 58.1%, transparent 58.1%);\n",
       "        }    #T_9a6c1522_f6f4_11e9_a06d_b00594fe16f9row4_col2 {\n",
       "            width:  10em;\n",
       "             height:  80%;\n",
       "            background:  linear-gradient(90deg,#d65f5f 53.4%, transparent 53.4%);\n",
       "        }    #T_9a6c1522_f6f4_11e9_a06d_b00594fe16f9row4_col3 {\n",
       "            width:  10em;\n",
       "             height:  80%;\n",
       "            background:  linear-gradient(90deg,#d65f5f 53.4%, transparent 53.4%);\n",
       "        }    #T_9a6c1522_f6f4_11e9_a06d_b00594fe16f9row5_col2 {\n",
       "            width:  10em;\n",
       "             height:  80%;\n",
       "            background:  linear-gradient(90deg,#d65f5f 51.5%, transparent 51.5%);\n",
       "        }    #T_9a6c1522_f6f4_11e9_a06d_b00594fe16f9row5_col3 {\n",
       "            width:  10em;\n",
       "             height:  80%;\n",
       "            background:  linear-gradient(90deg,#d65f5f 51.5%, transparent 51.5%);\n",
       "        }    #T_9a6c1522_f6f4_11e9_a06d_b00594fe16f9row6_col2 {\n",
       "            width:  10em;\n",
       "             height:  80%;\n",
       "            background:  linear-gradient(90deg,#d65f5f 29.8%, transparent 29.8%);\n",
       "        }    #T_9a6c1522_f6f4_11e9_a06d_b00594fe16f9row6_col3 {\n",
       "            width:  10em;\n",
       "             height:  80%;\n",
       "            background:  linear-gradient(90deg,#d65f5f 29.8%, transparent 29.8%);\n",
       "        }    #T_9a6c1522_f6f4_11e9_a06d_b00594fe16f9row7_col2 {\n",
       "            width:  10em;\n",
       "             height:  80%;\n",
       "            background:  linear-gradient(90deg,#d65f5f 29.7%, transparent 29.7%);\n",
       "        }    #T_9a6c1522_f6f4_11e9_a06d_b00594fe16f9row7_col3 {\n",
       "            width:  10em;\n",
       "             height:  80%;\n",
       "            background:  linear-gradient(90deg,#d65f5f 29.7%, transparent 29.7%);\n",
       "        }    #T_9a6c1522_f6f4_11e9_a06d_b00594fe16f9row8_col2 {\n",
       "            width:  10em;\n",
       "             height:  80%;\n",
       "            background:  linear-gradient(90deg,#d65f5f 23.6%, transparent 23.6%);\n",
       "        }    #T_9a6c1522_f6f4_11e9_a06d_b00594fe16f9row8_col3 {\n",
       "            width:  10em;\n",
       "             height:  80%;\n",
       "            background:  linear-gradient(90deg,#d65f5f 23.6%, transparent 23.6%);\n",
       "        }    #T_9a6c1522_f6f4_11e9_a06d_b00594fe16f9row9_col2 {\n",
       "            width:  10em;\n",
       "             height:  80%;\n",
       "            background:  linear-gradient(90deg,#d65f5f 21.1%, transparent 21.1%);\n",
       "        }    #T_9a6c1522_f6f4_11e9_a06d_b00594fe16f9row9_col3 {\n",
       "            width:  10em;\n",
       "             height:  80%;\n",
       "            background:  linear-gradient(90deg,#d65f5f 21.1%, transparent 21.1%);\n",
       "        }    #T_9a6c1522_f6f4_11e9_a06d_b00594fe16f9row10_col2 {\n",
       "            width:  10em;\n",
       "             height:  80%;\n",
       "            background:  linear-gradient(90deg,#d65f5f 21.0%, transparent 21.0%);\n",
       "        }    #T_9a6c1522_f6f4_11e9_a06d_b00594fe16f9row10_col3 {\n",
       "            width:  10em;\n",
       "             height:  80%;\n",
       "            background:  linear-gradient(90deg,#d65f5f 21.0%, transparent 21.0%);\n",
       "        }    #T_9a6c1522_f6f4_11e9_a06d_b00594fe16f9row11_col2 {\n",
       "            width:  10em;\n",
       "             height:  80%;\n",
       "            background:  linear-gradient(90deg,#d65f5f 21.0%, transparent 21.0%);\n",
       "        }    #T_9a6c1522_f6f4_11e9_a06d_b00594fe16f9row11_col3 {\n",
       "            width:  10em;\n",
       "             height:  80%;\n",
       "            background:  linear-gradient(90deg,#d65f5f 21.0%, transparent 21.0%);\n",
       "        }    #T_9a6c1522_f6f4_11e9_a06d_b00594fe16f9row12_col2 {\n",
       "            width:  10em;\n",
       "             height:  80%;\n",
       "            background:  linear-gradient(90deg,#d65f5f 20.1%, transparent 20.1%);\n",
       "        }    #T_9a6c1522_f6f4_11e9_a06d_b00594fe16f9row12_col3 {\n",
       "            width:  10em;\n",
       "             height:  80%;\n",
       "            background:  linear-gradient(90deg,#d65f5f 20.2%, transparent 20.2%);\n",
       "        }    #T_9a6c1522_f6f4_11e9_a06d_b00594fe16f9row13_col2 {\n",
       "            width:  10em;\n",
       "             height:  80%;\n",
       "            background:  linear-gradient(90deg,#d65f5f 18.8%, transparent 18.8%);\n",
       "        }    #T_9a6c1522_f6f4_11e9_a06d_b00594fe16f9row13_col3 {\n",
       "            width:  10em;\n",
       "             height:  80%;\n",
       "            background:  linear-gradient(90deg,#d65f5f 18.8%, transparent 18.8%);\n",
       "        }    #T_9a6c1522_f6f4_11e9_a06d_b00594fe16f9row14_col2 {\n",
       "            width:  10em;\n",
       "             height:  80%;\n",
       "            background:  linear-gradient(90deg,#d65f5f 17.6%, transparent 17.6%);\n",
       "        }    #T_9a6c1522_f6f4_11e9_a06d_b00594fe16f9row14_col3 {\n",
       "            width:  10em;\n",
       "             height:  80%;\n",
       "            background:  linear-gradient(90deg,#d65f5f 17.7%, transparent 17.7%);\n",
       "        }    #T_9a6c1522_f6f4_11e9_a06d_b00594fe16f9row15_col2 {\n",
       "            width:  10em;\n",
       "             height:  80%;\n",
       "            background:  linear-gradient(90deg,#d65f5f 17.4%, transparent 17.4%);\n",
       "        }    #T_9a6c1522_f6f4_11e9_a06d_b00594fe16f9row15_col3 {\n",
       "            width:  10em;\n",
       "             height:  80%;\n",
       "            background:  linear-gradient(90deg,#d65f5f 17.4%, transparent 17.4%);\n",
       "        }    #T_9a6c1522_f6f4_11e9_a06d_b00594fe16f9row16_col2 {\n",
       "            width:  10em;\n",
       "             height:  80%;\n",
       "            background:  linear-gradient(90deg,#d65f5f 16.5%, transparent 16.5%);\n",
       "        }    #T_9a6c1522_f6f4_11e9_a06d_b00594fe16f9row16_col3 {\n",
       "            width:  10em;\n",
       "             height:  80%;\n",
       "            background:  linear-gradient(90deg,#d65f5f 16.6%, transparent 16.6%);\n",
       "        }    #T_9a6c1522_f6f4_11e9_a06d_b00594fe16f9row17_col2 {\n",
       "            width:  10em;\n",
       "             height:  80%;\n",
       "            background:  linear-gradient(90deg,#d65f5f 16.5%, transparent 16.5%);\n",
       "        }    #T_9a6c1522_f6f4_11e9_a06d_b00594fe16f9row17_col3 {\n",
       "            width:  10em;\n",
       "             height:  80%;\n",
       "            background:  linear-gradient(90deg,#d65f5f 16.5%, transparent 16.5%);\n",
       "        }    #T_9a6c1522_f6f4_11e9_a06d_b00594fe16f9row18_col2 {\n",
       "            width:  10em;\n",
       "             height:  80%;\n",
       "            background:  linear-gradient(90deg,#d65f5f 16.0%, transparent 16.0%);\n",
       "        }    #T_9a6c1522_f6f4_11e9_a06d_b00594fe16f9row18_col3 {\n",
       "            width:  10em;\n",
       "             height:  80%;\n",
       "            background:  linear-gradient(90deg,#d65f5f 16.0%, transparent 16.0%);\n",
       "        }    #T_9a6c1522_f6f4_11e9_a06d_b00594fe16f9row19_col2 {\n",
       "            width:  10em;\n",
       "             height:  80%;\n",
       "            background:  linear-gradient(90deg,#d65f5f 15.2%, transparent 15.2%);\n",
       "        }    #T_9a6c1522_f6f4_11e9_a06d_b00594fe16f9row19_col3 {\n",
       "            width:  10em;\n",
       "             height:  80%;\n",
       "            background:  linear-gradient(90deg,#d65f5f 15.3%, transparent 15.3%);\n",
       "        }    #T_9a6c1522_f6f4_11e9_a06d_b00594fe16f9row20_col2 {\n",
       "            width:  10em;\n",
       "             height:  80%;\n",
       "            background:  linear-gradient(90deg,#d65f5f 13.2%, transparent 13.2%);\n",
       "        }    #T_9a6c1522_f6f4_11e9_a06d_b00594fe16f9row20_col3 {\n",
       "            width:  10em;\n",
       "             height:  80%;\n",
       "            background:  linear-gradient(90deg,#d65f5f 13.2%, transparent 13.2%);\n",
       "        }    #T_9a6c1522_f6f4_11e9_a06d_b00594fe16f9row21_col2 {\n",
       "            width:  10em;\n",
       "             height:  80%;\n",
       "            background:  linear-gradient(90deg,#d65f5f 12.0%, transparent 12.0%);\n",
       "        }    #T_9a6c1522_f6f4_11e9_a06d_b00594fe16f9row21_col3 {\n",
       "            width:  10em;\n",
       "             height:  80%;\n",
       "            background:  linear-gradient(90deg,#d65f5f 12.0%, transparent 12.0%);\n",
       "        }    #T_9a6c1522_f6f4_11e9_a06d_b00594fe16f9row22_col2 {\n",
       "            width:  10em;\n",
       "             height:  80%;\n",
       "            background:  linear-gradient(90deg,#d65f5f 9.1%, transparent 9.1%);\n",
       "        }    #T_9a6c1522_f6f4_11e9_a06d_b00594fe16f9row22_col3 {\n",
       "            width:  10em;\n",
       "             height:  80%;\n",
       "            background:  linear-gradient(90deg,#d65f5f 9.0%, transparent 9.0%);\n",
       "        }    #T_9a6c1522_f6f4_11e9_a06d_b00594fe16f9row23_col2 {\n",
       "            width:  10em;\n",
       "             height:  80%;\n",
       "            background:  linear-gradient(90deg,#d65f5f 8.2%, transparent 8.2%);\n",
       "        }    #T_9a6c1522_f6f4_11e9_a06d_b00594fe16f9row23_col3 {\n",
       "            width:  10em;\n",
       "             height:  80%;\n",
       "            background:  linear-gradient(90deg,#d65f5f 8.2%, transparent 8.2%);\n",
       "        }    #T_9a6c1522_f6f4_11e9_a06d_b00594fe16f9row24_col2 {\n",
       "            width:  10em;\n",
       "             height:  80%;\n",
       "            background:  linear-gradient(90deg,#d65f5f 5.4%, transparent 5.4%);\n",
       "        }    #T_9a6c1522_f6f4_11e9_a06d_b00594fe16f9row24_col3 {\n",
       "            width:  10em;\n",
       "             height:  80%;\n",
       "            background:  linear-gradient(90deg,#d65f5f 5.4%, transparent 5.4%);\n",
       "        }    #T_9a6c1522_f6f4_11e9_a06d_b00594fe16f9row25_col2 {\n",
       "            width:  10em;\n",
       "             height:  80%;\n",
       "            background:  linear-gradient(90deg,#d65f5f 4.8%, transparent 4.8%);\n",
       "        }    #T_9a6c1522_f6f4_11e9_a06d_b00594fe16f9row25_col3 {\n",
       "            width:  10em;\n",
       "             height:  80%;\n",
       "            background:  linear-gradient(90deg,#d65f5f 4.8%, transparent 4.8%);\n",
       "        }    #T_9a6c1522_f6f4_11e9_a06d_b00594fe16f9row26_col2 {\n",
       "            width:  10em;\n",
       "             height:  80%;\n",
       "            background:  linear-gradient(90deg,#d65f5f 4.7%, transparent 4.7%);\n",
       "        }    #T_9a6c1522_f6f4_11e9_a06d_b00594fe16f9row26_col3 {\n",
       "            width:  10em;\n",
       "             height:  80%;\n",
       "            background:  linear-gradient(90deg,#d65f5f 4.7%, transparent 4.7%);\n",
       "        }    #T_9a6c1522_f6f4_11e9_a06d_b00594fe16f9row27_col2 {\n",
       "            width:  10em;\n",
       "             height:  80%;\n",
       "            background:  linear-gradient(90deg,#d65f5f 4.2%, transparent 4.2%);\n",
       "        }    #T_9a6c1522_f6f4_11e9_a06d_b00594fe16f9row27_col3 {\n",
       "            width:  10em;\n",
       "             height:  80%;\n",
       "            background:  linear-gradient(90deg,#d65f5f 4.2%, transparent 4.2%);\n",
       "        }    #T_9a6c1522_f6f4_11e9_a06d_b00594fe16f9row28_col2 {\n",
       "            width:  10em;\n",
       "             height:  80%;\n",
       "            background:  linear-gradient(90deg,#d65f5f 3.2%, transparent 3.2%);\n",
       "        }    #T_9a6c1522_f6f4_11e9_a06d_b00594fe16f9row28_col3 {\n",
       "            width:  10em;\n",
       "             height:  80%;\n",
       "            background:  linear-gradient(90deg,#d65f5f 3.2%, transparent 3.2%);\n",
       "        }    #T_9a6c1522_f6f4_11e9_a06d_b00594fe16f9row29_col2 {\n",
       "            width:  10em;\n",
       "             height:  80%;\n",
       "            background:  linear-gradient(90deg,#d65f5f 2.7%, transparent 2.7%);\n",
       "        }    #T_9a6c1522_f6f4_11e9_a06d_b00594fe16f9row29_col3 {\n",
       "            width:  10em;\n",
       "             height:  80%;\n",
       "            background:  linear-gradient(90deg,#d65f5f 2.6%, transparent 2.6%);\n",
       "        }</style><table id=\"T_9a6c1522_f6f4_11e9_a06d_b00594fe16f9\" ><thead>    <tr>        <th class=\"blank level0\" ></th>        <th class=\"col_heading level0 col0\" >salary</th>        <th class=\"col_heading level0 col1\" >department</th>        <th class=\"col_heading level0 col2\" >stuff_quantity</th>        <th class=\"col_heading level0 col3\" >percentage</th>    </tr></thead><tbody>\n",
       "                <tr>\n",
       "                        <th id=\"T_9a6c1522_f6f4_11e9_a06d_b00594fe16f9level0_row0\" class=\"row_heading level0 row0\" >0</th>\n",
       "                        <td id=\"T_9a6c1522_f6f4_11e9_a06d_b00594fe16f9row0_col0\" class=\"data row0 col0\" >medium</td>\n",
       "                        <td id=\"T_9a6c1522_f6f4_11e9_a06d_b00594fe16f9row0_col1\" class=\"data row0 col1\" >sales</td>\n",
       "                        <td id=\"T_9a6c1522_f6f4_11e9_a06d_b00594fe16f9row0_col2\" class=\"data row0 col2\" >1469</td>\n",
       "                        <td id=\"T_9a6c1522_f6f4_11e9_a06d_b00594fe16f9row0_col3\" class=\"data row0 col3\" >12.85</td>\n",
       "            </tr>\n",
       "            <tr>\n",
       "                        <th id=\"T_9a6c1522_f6f4_11e9_a06d_b00594fe16f9level0_row1\" class=\"row_heading level0 row1\" >1</th>\n",
       "                        <td id=\"T_9a6c1522_f6f4_11e9_a06d_b00594fe16f9row1_col0\" class=\"data row1 col0\" >low</td>\n",
       "                        <td id=\"T_9a6c1522_f6f4_11e9_a06d_b00594fe16f9row1_col1\" class=\"data row1 col1\" >sales</td>\n",
       "                        <td id=\"T_9a6c1522_f6f4_11e9_a06d_b00594fe16f9row1_col2\" class=\"data row1 col2\" >1402</td>\n",
       "                        <td id=\"T_9a6c1522_f6f4_11e9_a06d_b00594fe16f9row1_col3\" class=\"data row1 col3\" >12.27</td>\n",
       "            </tr>\n",
       "            <tr>\n",
       "                        <th id=\"T_9a6c1522_f6f4_11e9_a06d_b00594fe16f9level0_row2\" class=\"row_heading level0 row2\" >2</th>\n",
       "                        <td id=\"T_9a6c1522_f6f4_11e9_a06d_b00594fe16f9row2_col0\" class=\"data row2 col0\" >low</td>\n",
       "                        <td id=\"T_9a6c1522_f6f4_11e9_a06d_b00594fe16f9row2_col1\" class=\"data row2 col1\" >technical</td>\n",
       "                        <td id=\"T_9a6c1522_f6f4_11e9_a06d_b00594fe16f9row2_col2\" class=\"data row2 col2\" >994</td>\n",
       "                        <td id=\"T_9a6c1522_f6f4_11e9_a06d_b00594fe16f9row2_col3\" class=\"data row2 col3\" >8.7</td>\n",
       "            </tr>\n",
       "            <tr>\n",
       "                        <th id=\"T_9a6c1522_f6f4_11e9_a06d_b00594fe16f9level0_row3\" class=\"row_heading level0 row3\" >3</th>\n",
       "                        <td id=\"T_9a6c1522_f6f4_11e9_a06d_b00594fe16f9row3_col0\" class=\"data row3 col0\" >medium</td>\n",
       "                        <td id=\"T_9a6c1522_f6f4_11e9_a06d_b00594fe16f9row3_col1\" class=\"data row3 col1\" >technical</td>\n",
       "                        <td id=\"T_9a6c1522_f6f4_11e9_a06d_b00594fe16f9row3_col2\" class=\"data row3 col2\" >853</td>\n",
       "                        <td id=\"T_9a6c1522_f6f4_11e9_a06d_b00594fe16f9row3_col3\" class=\"data row3 col3\" >7.46</td>\n",
       "            </tr>\n",
       "            <tr>\n",
       "                        <th id=\"T_9a6c1522_f6f4_11e9_a06d_b00594fe16f9level0_row4\" class=\"row_heading level0 row4\" >4</th>\n",
       "                        <td id=\"T_9a6c1522_f6f4_11e9_a06d_b00594fe16f9row4_col0\" class=\"data row4 col0\" >medium</td>\n",
       "                        <td id=\"T_9a6c1522_f6f4_11e9_a06d_b00594fe16f9row4_col1\" class=\"data row4 col1\" >support</td>\n",
       "                        <td id=\"T_9a6c1522_f6f4_11e9_a06d_b00594fe16f9row4_col2\" class=\"data row4 col2\" >784</td>\n",
       "                        <td id=\"T_9a6c1522_f6f4_11e9_a06d_b00594fe16f9row4_col3\" class=\"data row4 col3\" >6.86</td>\n",
       "            </tr>\n",
       "            <tr>\n",
       "                        <th id=\"T_9a6c1522_f6f4_11e9_a06d_b00594fe16f9level0_row5\" class=\"row_heading level0 row5\" >5</th>\n",
       "                        <td id=\"T_9a6c1522_f6f4_11e9_a06d_b00594fe16f9row5_col0\" class=\"data row5 col0\" >low</td>\n",
       "                        <td id=\"T_9a6c1522_f6f4_11e9_a06d_b00594fe16f9row5_col1\" class=\"data row5 col1\" >support</td>\n",
       "                        <td id=\"T_9a6c1522_f6f4_11e9_a06d_b00594fe16f9row5_col2\" class=\"data row5 col2\" >757</td>\n",
       "                        <td id=\"T_9a6c1522_f6f4_11e9_a06d_b00594fe16f9row5_col3\" class=\"data row5 col3\" >6.62</td>\n",
       "            </tr>\n",
       "            <tr>\n",
       "                        <th id=\"T_9a6c1522_f6f4_11e9_a06d_b00594fe16f9level0_row6\" class=\"row_heading level0 row6\" >6</th>\n",
       "                        <td id=\"T_9a6c1522_f6f4_11e9_a06d_b00594fe16f9row6_col0\" class=\"data row6 col0\" >medium</td>\n",
       "                        <td id=\"T_9a6c1522_f6f4_11e9_a06d_b00594fe16f9row6_col1\" class=\"data row6 col1\" >IT</td>\n",
       "                        <td id=\"T_9a6c1522_f6f4_11e9_a06d_b00594fe16f9row6_col2\" class=\"data row6 col2\" >438</td>\n",
       "                        <td id=\"T_9a6c1522_f6f4_11e9_a06d_b00594fe16f9row6_col3\" class=\"data row6 col3\" >3.83</td>\n",
       "            </tr>\n",
       "            <tr>\n",
       "                        <th id=\"T_9a6c1522_f6f4_11e9_a06d_b00594fe16f9level0_row7\" class=\"row_heading level0 row7\" >7</th>\n",
       "                        <td id=\"T_9a6c1522_f6f4_11e9_a06d_b00594fe16f9row7_col0\" class=\"data row7 col0\" >low</td>\n",
       "                        <td id=\"T_9a6c1522_f6f4_11e9_a06d_b00594fe16f9row7_col1\" class=\"data row7 col1\" >IT</td>\n",
       "                        <td id=\"T_9a6c1522_f6f4_11e9_a06d_b00594fe16f9row7_col2\" class=\"data row7 col2\" >437</td>\n",
       "                        <td id=\"T_9a6c1522_f6f4_11e9_a06d_b00594fe16f9row7_col3\" class=\"data row7 col3\" >3.82</td>\n",
       "            </tr>\n",
       "            <tr>\n",
       "                        <th id=\"T_9a6c1522_f6f4_11e9_a06d_b00594fe16f9level0_row8\" class=\"row_heading level0 row8\" >8</th>\n",
       "                        <td id=\"T_9a6c1522_f6f4_11e9_a06d_b00594fe16f9row8_col0\" class=\"data row8 col0\" >low</td>\n",
       "                        <td id=\"T_9a6c1522_f6f4_11e9_a06d_b00594fe16f9row8_col1\" class=\"data row8 col1\" >product_mng</td>\n",
       "                        <td id=\"T_9a6c1522_f6f4_11e9_a06d_b00594fe16f9row8_col2\" class=\"data row8 col2\" >346</td>\n",
       "                        <td id=\"T_9a6c1522_f6f4_11e9_a06d_b00594fe16f9row8_col3\" class=\"data row8 col3\" >3.03</td>\n",
       "            </tr>\n",
       "            <tr>\n",
       "                        <th id=\"T_9a6c1522_f6f4_11e9_a06d_b00594fe16f9level0_row9\" class=\"row_heading level0 row9\" >9</th>\n",
       "                        <td id=\"T_9a6c1522_f6f4_11e9_a06d_b00594fe16f9row9_col0\" class=\"data row9 col0\" >medium</td>\n",
       "                        <td id=\"T_9a6c1522_f6f4_11e9_a06d_b00594fe16f9row9_col1\" class=\"data row9 col1\" >RandD</td>\n",
       "                        <td id=\"T_9a6c1522_f6f4_11e9_a06d_b00594fe16f9row9_col2\" class=\"data row9 col2\" >310</td>\n",
       "                        <td id=\"T_9a6c1522_f6f4_11e9_a06d_b00594fe16f9row9_col3\" class=\"data row9 col3\" >2.71</td>\n",
       "            </tr>\n",
       "            <tr>\n",
       "                        <th id=\"T_9a6c1522_f6f4_11e9_a06d_b00594fe16f9level0_row10\" class=\"row_heading level0 row10\" >10</th>\n",
       "                        <td id=\"T_9a6c1522_f6f4_11e9_a06d_b00594fe16f9row10_col0\" class=\"data row10 col0\" >low</td>\n",
       "                        <td id=\"T_9a6c1522_f6f4_11e9_a06d_b00594fe16f9row10_col1\" class=\"data row10 col1\" >RandD</td>\n",
       "                        <td id=\"T_9a6c1522_f6f4_11e9_a06d_b00594fe16f9row10_col2\" class=\"data row10 col2\" >309</td>\n",
       "                        <td id=\"T_9a6c1522_f6f4_11e9_a06d_b00594fe16f9row10_col3\" class=\"data row10 col3\" >2.7</td>\n",
       "            </tr>\n",
       "            <tr>\n",
       "                        <th id=\"T_9a6c1522_f6f4_11e9_a06d_b00594fe16f9level0_row11\" class=\"row_heading level0 row11\" >11</th>\n",
       "                        <td id=\"T_9a6c1522_f6f4_11e9_a06d_b00594fe16f9row11_col0\" class=\"data row11 col0\" >medium</td>\n",
       "                        <td id=\"T_9a6c1522_f6f4_11e9_a06d_b00594fe16f9row11_col1\" class=\"data row11 col1\" >marketing</td>\n",
       "                        <td id=\"T_9a6c1522_f6f4_11e9_a06d_b00594fe16f9row11_col2\" class=\"data row11 col2\" >308</td>\n",
       "                        <td id=\"T_9a6c1522_f6f4_11e9_a06d_b00594fe16f9row11_col3\" class=\"data row11 col3\" >2.7</td>\n",
       "            </tr>\n",
       "            <tr>\n",
       "                        <th id=\"T_9a6c1522_f6f4_11e9_a06d_b00594fe16f9level0_row12\" class=\"row_heading level0 row12\" >12</th>\n",
       "                        <td id=\"T_9a6c1522_f6f4_11e9_a06d_b00594fe16f9row12_col0\" class=\"data row12 col0\" >medium</td>\n",
       "                        <td id=\"T_9a6c1522_f6f4_11e9_a06d_b00594fe16f9row12_col1\" class=\"data row12 col1\" >product_mng</td>\n",
       "                        <td id=\"T_9a6c1522_f6f4_11e9_a06d_b00594fe16f9row12_col2\" class=\"data row12 col2\" >296</td>\n",
       "                        <td id=\"T_9a6c1522_f6f4_11e9_a06d_b00594fe16f9row12_col3\" class=\"data row12 col3\" >2.59</td>\n",
       "            </tr>\n",
       "            <tr>\n",
       "                        <th id=\"T_9a6c1522_f6f4_11e9_a06d_b00594fe16f9level0_row13\" class=\"row_heading level0 row13\" >13</th>\n",
       "                        <td id=\"T_9a6c1522_f6f4_11e9_a06d_b00594fe16f9row13_col0\" class=\"data row13 col0\" >low</td>\n",
       "                        <td id=\"T_9a6c1522_f6f4_11e9_a06d_b00594fe16f9row13_col1\" class=\"data row13 col1\" >marketing</td>\n",
       "                        <td id=\"T_9a6c1522_f6f4_11e9_a06d_b00594fe16f9row13_col2\" class=\"data row13 col2\" >276</td>\n",
       "                        <td id=\"T_9a6c1522_f6f4_11e9_a06d_b00594fe16f9row13_col3\" class=\"data row13 col3\" >2.42</td>\n",
       "            </tr>\n",
       "            <tr>\n",
       "                        <th id=\"T_9a6c1522_f6f4_11e9_a06d_b00594fe16f9level0_row14\" class=\"row_heading level0 row14\" >14</th>\n",
       "                        <td id=\"T_9a6c1522_f6f4_11e9_a06d_b00594fe16f9row14_col0\" class=\"data row14 col0\" >low</td>\n",
       "                        <td id=\"T_9a6c1522_f6f4_11e9_a06d_b00594fe16f9row14_col1\" class=\"data row14 col1\" >accounting</td>\n",
       "                        <td id=\"T_9a6c1522_f6f4_11e9_a06d_b00594fe16f9row14_col2\" class=\"data row14 col2\" >259</td>\n",
       "                        <td id=\"T_9a6c1522_f6f4_11e9_a06d_b00594fe16f9row14_col3\" class=\"data row14 col3\" >2.27</td>\n",
       "            </tr>\n",
       "            <tr>\n",
       "                        <th id=\"T_9a6c1522_f6f4_11e9_a06d_b00594fe16f9level0_row15\" class=\"row_heading level0 row15\" >15</th>\n",
       "                        <td id=\"T_9a6c1522_f6f4_11e9_a06d_b00594fe16f9row15_col0\" class=\"data row15 col0\" >high</td>\n",
       "                        <td id=\"T_9a6c1522_f6f4_11e9_a06d_b00594fe16f9row15_col1\" class=\"data row15 col1\" >sales</td>\n",
       "                        <td id=\"T_9a6c1522_f6f4_11e9_a06d_b00594fe16f9row15_col2\" class=\"data row15 col2\" >255</td>\n",
       "                        <td id=\"T_9a6c1522_f6f4_11e9_a06d_b00594fe16f9row15_col3\" class=\"data row15 col3\" >2.23</td>\n",
       "            </tr>\n",
       "            <tr>\n",
       "                        <th id=\"T_9a6c1522_f6f4_11e9_a06d_b00594fe16f9level0_row16\" class=\"row_heading level0 row16\" >16</th>\n",
       "                        <td id=\"T_9a6c1522_f6f4_11e9_a06d_b00594fe16f9row16_col0\" class=\"data row16 col0\" >low</td>\n",
       "                        <td id=\"T_9a6c1522_f6f4_11e9_a06d_b00594fe16f9row16_col1\" class=\"data row16 col1\" >hr</td>\n",
       "                        <td id=\"T_9a6c1522_f6f4_11e9_a06d_b00594fe16f9row16_col2\" class=\"data row16 col2\" >243</td>\n",
       "                        <td id=\"T_9a6c1522_f6f4_11e9_a06d_b00594fe16f9row16_col3\" class=\"data row16 col3\" >2.13</td>\n",
       "            </tr>\n",
       "            <tr>\n",
       "                        <th id=\"T_9a6c1522_f6f4_11e9_a06d_b00594fe16f9level0_row17\" class=\"row_heading level0 row17\" >17</th>\n",
       "                        <td id=\"T_9a6c1522_f6f4_11e9_a06d_b00594fe16f9row17_col0\" class=\"data row17 col0\" >medium</td>\n",
       "                        <td id=\"T_9a6c1522_f6f4_11e9_a06d_b00594fe16f9row17_col1\" class=\"data row17 col1\" >hr</td>\n",
       "                        <td id=\"T_9a6c1522_f6f4_11e9_a06d_b00594fe16f9row17_col2\" class=\"data row17 col2\" >242</td>\n",
       "                        <td id=\"T_9a6c1522_f6f4_11e9_a06d_b00594fe16f9row17_col3\" class=\"data row17 col3\" >2.12</td>\n",
       "            </tr>\n",
       "            <tr>\n",
       "                        <th id=\"T_9a6c1522_f6f4_11e9_a06d_b00594fe16f9level0_row18\" class=\"row_heading level0 row18\" >18</th>\n",
       "                        <td id=\"T_9a6c1522_f6f4_11e9_a06d_b00594fe16f9row18_col0\" class=\"data row18 col0\" >medium</td>\n",
       "                        <td id=\"T_9a6c1522_f6f4_11e9_a06d_b00594fe16f9row18_col1\" class=\"data row18 col1\" >accounting</td>\n",
       "                        <td id=\"T_9a6c1522_f6f4_11e9_a06d_b00594fe16f9row18_col2\" class=\"data row18 col2\" >235</td>\n",
       "                        <td id=\"T_9a6c1522_f6f4_11e9_a06d_b00594fe16f9row18_col3\" class=\"data row18 col3\" >2.06</td>\n",
       "            </tr>\n",
       "            <tr>\n",
       "                        <th id=\"T_9a6c1522_f6f4_11e9_a06d_b00594fe16f9level0_row19\" class=\"row_heading level0 row19\" >19</th>\n",
       "                        <td id=\"T_9a6c1522_f6f4_11e9_a06d_b00594fe16f9row19_col0\" class=\"data row19 col0\" >high</td>\n",
       "                        <td id=\"T_9a6c1522_f6f4_11e9_a06d_b00594fe16f9row19_col1\" class=\"data row19 col1\" >management</td>\n",
       "                        <td id=\"T_9a6c1522_f6f4_11e9_a06d_b00594fe16f9row19_col2\" class=\"data row19 col2\" >224</td>\n",
       "                        <td id=\"T_9a6c1522_f6f4_11e9_a06d_b00594fe16f9row19_col3\" class=\"data row19 col3\" >1.96</td>\n",
       "            </tr>\n",
       "            <tr>\n",
       "                        <th id=\"T_9a6c1522_f6f4_11e9_a06d_b00594fe16f9level0_row20\" class=\"row_heading level0 row20\" >20</th>\n",
       "                        <td id=\"T_9a6c1522_f6f4_11e9_a06d_b00594fe16f9row20_col0\" class=\"data row20 col0\" >medium</td>\n",
       "                        <td id=\"T_9a6c1522_f6f4_11e9_a06d_b00594fe16f9row20_col1\" class=\"data row20 col1\" >management</td>\n",
       "                        <td id=\"T_9a6c1522_f6f4_11e9_a06d_b00594fe16f9row20_col2\" class=\"data row20 col2\" >194</td>\n",
       "                        <td id=\"T_9a6c1522_f6f4_11e9_a06d_b00594fe16f9row20_col3\" class=\"data row20 col3\" >1.7</td>\n",
       "            </tr>\n",
       "            <tr>\n",
       "                        <th id=\"T_9a6c1522_f6f4_11e9_a06d_b00594fe16f9level0_row21\" class=\"row_heading level0 row21\" >21</th>\n",
       "                        <td id=\"T_9a6c1522_f6f4_11e9_a06d_b00594fe16f9row21_col0\" class=\"data row21 col0\" >high</td>\n",
       "                        <td id=\"T_9a6c1522_f6f4_11e9_a06d_b00594fe16f9row21_col1\" class=\"data row21 col1\" >technical</td>\n",
       "                        <td id=\"T_9a6c1522_f6f4_11e9_a06d_b00594fe16f9row21_col2\" class=\"data row21 col2\" >176</td>\n",
       "                        <td id=\"T_9a6c1522_f6f4_11e9_a06d_b00594fe16f9row21_col3\" class=\"data row21 col3\" >1.54</td>\n",
       "            </tr>\n",
       "            <tr>\n",
       "                        <th id=\"T_9a6c1522_f6f4_11e9_a06d_b00594fe16f9level0_row22\" class=\"row_heading level0 row22\" >22</th>\n",
       "                        <td id=\"T_9a6c1522_f6f4_11e9_a06d_b00594fe16f9row22_col0\" class=\"data row22 col0\" >high</td>\n",
       "                        <td id=\"T_9a6c1522_f6f4_11e9_a06d_b00594fe16f9row22_col1\" class=\"data row22 col1\" >support</td>\n",
       "                        <td id=\"T_9a6c1522_f6f4_11e9_a06d_b00594fe16f9row22_col2\" class=\"data row22 col2\" >133</td>\n",
       "                        <td id=\"T_9a6c1522_f6f4_11e9_a06d_b00594fe16f9row22_col3\" class=\"data row22 col3\" >1.16</td>\n",
       "            </tr>\n",
       "            <tr>\n",
       "                        <th id=\"T_9a6c1522_f6f4_11e9_a06d_b00594fe16f9level0_row23\" class=\"row_heading level0 row23\" >23</th>\n",
       "                        <td id=\"T_9a6c1522_f6f4_11e9_a06d_b00594fe16f9row23_col0\" class=\"data row23 col0\" >low</td>\n",
       "                        <td id=\"T_9a6c1522_f6f4_11e9_a06d_b00594fe16f9row23_col1\" class=\"data row23 col1\" >management</td>\n",
       "                        <td id=\"T_9a6c1522_f6f4_11e9_a06d_b00594fe16f9row23_col2\" class=\"data row23 col2\" >121</td>\n",
       "                        <td id=\"T_9a6c1522_f6f4_11e9_a06d_b00594fe16f9row23_col3\" class=\"data row23 col3\" >1.06</td>\n",
       "            </tr>\n",
       "            <tr>\n",
       "                        <th id=\"T_9a6c1522_f6f4_11e9_a06d_b00594fe16f9level0_row24\" class=\"row_heading level0 row24\" >24</th>\n",
       "                        <td id=\"T_9a6c1522_f6f4_11e9_a06d_b00594fe16f9row24_col0\" class=\"data row24 col0\" >high</td>\n",
       "                        <td id=\"T_9a6c1522_f6f4_11e9_a06d_b00594fe16f9row24_col1\" class=\"data row24 col1\" >IT</td>\n",
       "                        <td id=\"T_9a6c1522_f6f4_11e9_a06d_b00594fe16f9row24_col2\" class=\"data row24 col2\" >79</td>\n",
       "                        <td id=\"T_9a6c1522_f6f4_11e9_a06d_b00594fe16f9row24_col3\" class=\"data row24 col3\" >0.69</td>\n",
       "            </tr>\n",
       "            <tr>\n",
       "                        <th id=\"T_9a6c1522_f6f4_11e9_a06d_b00594fe16f9level0_row25\" class=\"row_heading level0 row25\" >25</th>\n",
       "                        <td id=\"T_9a6c1522_f6f4_11e9_a06d_b00594fe16f9row25_col0\" class=\"data row25 col0\" >high</td>\n",
       "                        <td id=\"T_9a6c1522_f6f4_11e9_a06d_b00594fe16f9row25_col1\" class=\"data row25 col1\" >marketing</td>\n",
       "                        <td id=\"T_9a6c1522_f6f4_11e9_a06d_b00594fe16f9row25_col2\" class=\"data row25 col2\" >71</td>\n",
       "                        <td id=\"T_9a6c1522_f6f4_11e9_a06d_b00594fe16f9row25_col3\" class=\"data row25 col3\" >0.62</td>\n",
       "            </tr>\n",
       "            <tr>\n",
       "                        <th id=\"T_9a6c1522_f6f4_11e9_a06d_b00594fe16f9level0_row26\" class=\"row_heading level0 row26\" >26</th>\n",
       "                        <td id=\"T_9a6c1522_f6f4_11e9_a06d_b00594fe16f9row26_col0\" class=\"data row26 col0\" >high</td>\n",
       "                        <td id=\"T_9a6c1522_f6f4_11e9_a06d_b00594fe16f9row26_col1\" class=\"data row26 col1\" >accounting</td>\n",
       "                        <td id=\"T_9a6c1522_f6f4_11e9_a06d_b00594fe16f9row26_col2\" class=\"data row26 col2\" >69</td>\n",
       "                        <td id=\"T_9a6c1522_f6f4_11e9_a06d_b00594fe16f9row26_col3\" class=\"data row26 col3\" >0.6</td>\n",
       "            </tr>\n",
       "            <tr>\n",
       "                        <th id=\"T_9a6c1522_f6f4_11e9_a06d_b00594fe16f9level0_row27\" class=\"row_heading level0 row27\" >27</th>\n",
       "                        <td id=\"T_9a6c1522_f6f4_11e9_a06d_b00594fe16f9row27_col0\" class=\"data row27 col0\" >high</td>\n",
       "                        <td id=\"T_9a6c1522_f6f4_11e9_a06d_b00594fe16f9row27_col1\" class=\"data row27 col1\" >product_mng</td>\n",
       "                        <td id=\"T_9a6c1522_f6f4_11e9_a06d_b00594fe16f9row27_col2\" class=\"data row27 col2\" >62</td>\n",
       "                        <td id=\"T_9a6c1522_f6f4_11e9_a06d_b00594fe16f9row27_col3\" class=\"data row27 col3\" >0.54</td>\n",
       "            </tr>\n",
       "            <tr>\n",
       "                        <th id=\"T_9a6c1522_f6f4_11e9_a06d_b00594fe16f9level0_row28\" class=\"row_heading level0 row28\" >28</th>\n",
       "                        <td id=\"T_9a6c1522_f6f4_11e9_a06d_b00594fe16f9row28_col0\" class=\"data row28 col0\" >high</td>\n",
       "                        <td id=\"T_9a6c1522_f6f4_11e9_a06d_b00594fe16f9row28_col1\" class=\"data row28 col1\" >RandD</td>\n",
       "                        <td id=\"T_9a6c1522_f6f4_11e9_a06d_b00594fe16f9row28_col2\" class=\"data row28 col2\" >47</td>\n",
       "                        <td id=\"T_9a6c1522_f6f4_11e9_a06d_b00594fe16f9row28_col3\" class=\"data row28 col3\" >0.41</td>\n",
       "            </tr>\n",
       "            <tr>\n",
       "                        <th id=\"T_9a6c1522_f6f4_11e9_a06d_b00594fe16f9level0_row29\" class=\"row_heading level0 row29\" >29</th>\n",
       "                        <td id=\"T_9a6c1522_f6f4_11e9_a06d_b00594fe16f9row29_col0\" class=\"data row29 col0\" >high</td>\n",
       "                        <td id=\"T_9a6c1522_f6f4_11e9_a06d_b00594fe16f9row29_col1\" class=\"data row29 col1\" >hr</td>\n",
       "                        <td id=\"T_9a6c1522_f6f4_11e9_a06d_b00594fe16f9row29_col2\" class=\"data row29 col2\" >39</td>\n",
       "                        <td id=\"T_9a6c1522_f6f4_11e9_a06d_b00594fe16f9row29_col3\" class=\"data row29 col3\" >0.34</td>\n",
       "            </tr>\n",
       "    </tbody></table>"
      ],
      "text/plain": [
       "<pandas.io.formats.style.Styler at 0x1b66037dda0>"
      ]
     },
     "execution_count": 22,
     "metadata": {},
     "output_type": "execute_result"
    }
   ],
   "source": [
    "dep_wage_cnt = actual_stuff.groupby(\n",
    "    ['salary', 'sales'], sort = False)['last_evaluation'].agg(\n",
    "    ['count']).sort_values(\n",
    "    by=['count'], ascending = False).rename(columns = {'sales':'department'})\n",
    "def calc_percentage3(x):\n",
    "    perctg = float(x/dep_wage_cnt['count'].sum())*100 \n",
    "    return round(perctg,2)\n",
    "dep_wage_cnt['percentage'] = dep_wage_cnt.apply(calc_percentage3, axis = 1)\n",
    "dep_wage_cnt.reset_index().rename(\n",
    "    columns = {'sales':'department','count':'stuff_quantity'}).style.bar(align = 'mid')"
   ]
  },
  {
   "cell_type": "markdown",
   "metadata": {},
   "source": [
    "Наиболее представительные среди сотрудников группы по параметру \"отдел-уровень зарплаты\", - продажи-низкий и средний уровни. Наименее представительные, - высокооплачиваемый персонал отделов hr и RandD"
   ]
  },
  {
   "cell_type": "markdown",
   "metadata": {},
   "source": [
    "## 9. Узнаём, сколько сотрудников покинули компанию."
   ]
  },
  {
   "cell_type": "markdown",
   "metadata": {},
   "source": [
    "3571"
   ]
  },
  {
   "cell_type": "code",
   "execution_count": 23,
   "metadata": {},
   "outputs": [
    {
     "data": {
      "text/plain": [
       "3571"
      ]
     },
     "execution_count": 23,
     "metadata": {},
     "output_type": "execute_result"
    }
   ],
   "source": [
    "l = len(hr_df) - len(actual_stuff)\n",
    "l"
   ]
  },
  {
   "cell_type": "markdown",
   "metadata": {},
   "source": [
    "## 10. Проверить несколько гипотез для данных, чтобы понять почему сотрудники покидают компанию"
   ]
  },
  {
   "cell_type": "markdown",
   "metadata": {},
   "source": [
    "Выделии в отдельный датафрейм уволившихся (-енных)"
   ]
  },
  {
   "cell_type": "code",
   "execution_count": 24,
   "metadata": {},
   "outputs": [],
   "source": [
    "loss_stuff = hr_df[hr_df['left'] == 1]"
   ]
  },
  {
   "cell_type": "markdown",
   "metadata": {},
   "source": [
    "В нашем датасете как раз есть измерение для анализа причин увольнения - это уровень удовлетворённости. Протестируем же, насколько эта метрика коррелирует с увольнениями. Итак, гипотеза №1 (казалось бы очевидное утверждение, но всё же): сотрудники с низким уровнем удовлетворённости чаще покидают компанию"
   ]
  },
  {
   "cell_type": "code",
   "execution_count": 25,
   "metadata": {},
   "outputs": [
    {
     "data": {
      "text/plain": [
       "Ttest_indResult(statistic=-51.61280155890104, pvalue=0.0)"
      ]
     },
     "execution_count": 25,
     "metadata": {},
     "output_type": "execute_result"
    }
   ],
   "source": [
    "stats.ttest_ind(\n",
    "    loss_stuff['satisfaction_level'],\n",
    "    actual_stuff['satisfaction_level']\n",
    ")"
   ]
  },
  {
   "cell_type": "code",
   "execution_count": 26,
   "metadata": {},
   "outputs": [
    {
     "data": {
      "text/plain": [
       "Ttest_1sampResult(statistic=-51.3303486754725, pvalue=0.0)"
      ]
     },
     "execution_count": 26,
     "metadata": {},
     "output_type": "execute_result"
    }
   ],
   "source": [
    "stats.ttest_1samp(\n",
    "    loss_stuff['satisfaction_level'],\n",
    "    actual_stuff['satisfaction_level'].mean()\n",
    ")"
   ]
  },
  {
   "cell_type": "markdown",
   "metadata": {},
   "source": [
    "Вышеприведённая корреляционная матрица для переменных (heatmap) давала высокую корреляцию (-0,39) на пересечении \"left\" и \"satisfaction_level\". t-test дал потрясающий результат: p-value = 0.0 от слова совсем. Интересно посмотреть на частотное распределение satisfaction_level, чтобы понять, целесообразно ли его вообще подвергать t-test"
   ]
  },
  {
   "cell_type": "code",
   "execution_count": 27,
   "metadata": {},
   "outputs": [
    {
     "data": {
      "image/png": "[encoded data removed]",
      "text/plain": [
       "<Figure size 432x288 with 1 Axes>"
      ]
     },
     "metadata": {
      "needs_background": "light"
     },
     "output_type": "display_data"
    }
   ],
   "source": [
    "n, bins, patches = plt.hist(hr_df['satisfaction_level'], 100, facecolor='b')\n",
    "plt.title('Частотность столбца satisfaction_level')\n",
    "plt.xlabel('satisfaction_level')\n",
    "plt.ylabel('частота')\n",
    "plt.grid(True)"
   ]
  },
  {
   "cell_type": "markdown",
   "metadata": {},
   "source": [
    "...мда. у наших целевых выборок распределение еще более замысловатое...не очень-то и целесообразен t-test. ОК. воспользуемся старым добрым топорным методом проверки гипотезы: сравним среднее значение для каждой выборки"
   ]
  },
  {
   "cell_type": "code",
   "execution_count": 28,
   "metadata": {},
   "outputs": [
    {
     "data": {
      "text/plain": [
       "0.44009801176140917"
      ]
     },
     "execution_count": 28,
     "metadata": {},
     "output_type": "execute_result"
    }
   ],
   "source": [
    "loss_stuff['satisfaction_level'].mean()"
   ]
  },
  {
   "cell_type": "code",
   "execution_count": 29,
   "metadata": {},
   "outputs": [
    {
     "data": {
      "text/plain": [
       "0.666809590479516"
      ]
     },
     "execution_count": 29,
     "metadata": {},
     "output_type": "execute_result"
    }
   ],
   "source": [
    "actual_stuff['satisfaction_level'].mean()"
   ]
  },
  {
   "cell_type": "markdown",
   "metadata": {},
   "source": [
    "Ответ очевиден: метрика уровня удовлетворённости даёт основание считать сотрудников с низким таковым близкими к увольнению"
   ]
  },
  {
   "cell_type": "markdown",
   "metadata": {},
   "source": [
    "Матрица корреляций имеет также значимое пересечение между \"time_spend_company\" и \"left\". Выдвинем гипотезу: сотрудники увольнялись когда им нечего было терять в компании: наработанных связей, комфортных отношений в коллективе, высокий авторитет среди коллег и начальства. В общем тогда, когда мало проработали в компании в принципе"
   ]
  },
  {
   "cell_type": "code",
   "execution_count": 30,
   "metadata": {},
   "outputs": [
    {
     "data": {
      "text/plain": [
       "Ttest_1sampResult(statistic=30.344952648144773, pvalue=3.8135536324917118e-180)"
      ]
     },
     "execution_count": 30,
     "metadata": {},
     "output_type": "execute_result"
    }
   ],
   "source": [
    "stats.ttest_1samp(\n",
    "    loss_stuff['time_spend_company'],\n",
    "    actual_stuff['time_spend_company'].mean()\n",
    ")"
   ]
  },
  {
   "cell_type": "code",
   "execution_count": 31,
   "metadata": {},
   "outputs": [
    {
     "data": {
      "text/plain": [
       "Ttest_indResult(statistic=17.924210234916142, pvalue=4.207680457692835e-71)"
      ]
     },
     "execution_count": 31,
     "metadata": {},
     "output_type": "execute_result"
    }
   ],
   "source": [
    "stats.ttest_ind(\n",
    "    loss_stuff['time_spend_company'],\n",
    "    actual_stuff['time_spend_company']\n",
    ")"
   ]
  },
  {
   "cell_type": "markdown",
   "metadata": {},
   "source": [
    "И снова p-value очень близок к нулю. Отвергаем нулевую гипотезу. Время, проведённое в компании очень слабо влияет на решение об увольнении. Проверим:"
   ]
  },
  {
   "cell_type": "code",
   "execution_count": 32,
   "metadata": {},
   "outputs": [
    {
     "data": {
      "text/plain": [
       "3.876505180621675"
      ]
     },
     "execution_count": 32,
     "metadata": {},
     "output_type": "execute_result"
    }
   ],
   "source": [
    "loss_stuff['time_spend_company'].mean()"
   ]
  },
  {
   "cell_type": "code",
   "execution_count": 33,
   "metadata": {},
   "outputs": [
    {
     "data": {
      "text/plain": [
       "3.3800315015750786"
      ]
     },
     "execution_count": 33,
     "metadata": {},
     "output_type": "execute_result"
    }
   ],
   "source": [
    "actual_stuff['time_spend_company'].mean()"
   ]
  },
  {
   "cell_type": "markdown",
   "metadata": {},
   "source": [
    "Гипотеза № 3. Сотрудники увольнялись из-за низкого уровня оплаты труда"
   ]
  },
  {
   "cell_type": "code",
   "execution_count": 34,
   "metadata": {},
   "outputs": [],
   "source": [
    "wage_grby_act = actual_stuff.groupby(\n",
    "    'salary')['number_project'].agg(['count'])\n",
    "wage_grby_lss = loss_stuff.groupby(\n",
    "    'salary')['number_project'].agg(['count'])"
   ]
  },
  {
   "cell_type": "code",
   "execution_count": 35,
   "metadata": {},
   "outputs": [
    {
     "data": {
      "text/html": [
       "<div>\n",
       "<style scoped>\n",
       "    .dataframe tbody tr th:only-of-type {\n",
       "        vertical-align: middle;\n",
       "    }\n",
       "\n",
       "    .dataframe tbody tr th {\n",
       "        vertical-align: top;\n",
       "    }\n",
       "\n",
       "    .dataframe thead th {\n",
       "        text-align: right;\n",
       "    }\n",
       "</style>\n",
       "<table border=\"1\" class=\"dataframe\">\n",
       "  <thead>\n",
       "    <tr style=\"text-align: right;\">\n",
       "      <th></th>\n",
       "      <th>count</th>\n",
       "    </tr>\n",
       "    <tr>\n",
       "      <th>salary</th>\n",
       "      <th></th>\n",
       "    </tr>\n",
       "  </thead>\n",
       "  <tbody>\n",
       "    <tr>\n",
       "      <th>high</th>\n",
       "      <td>1155</td>\n",
       "    </tr>\n",
       "    <tr>\n",
       "      <th>low</th>\n",
       "      <td>5144</td>\n",
       "    </tr>\n",
       "    <tr>\n",
       "      <th>medium</th>\n",
       "      <td>5129</td>\n",
       "    </tr>\n",
       "  </tbody>\n",
       "</table>\n",
       "</div>"
      ],
      "text/plain": [
       "        count\n",
       "salary       \n",
       "high     1155\n",
       "low      5144\n",
       "medium   5129"
      ]
     },
     "execution_count": 35,
     "metadata": {},
     "output_type": "execute_result"
    }
   ],
   "source": [
    "wage_grby_act"
   ]
  },
  {
   "cell_type": "code",
   "execution_count": 36,
   "metadata": {},
   "outputs": [
    {
     "data": {
      "text/html": [
       "<div>\n",
       "<style scoped>\n",
       "    .dataframe tbody tr th:only-of-type {\n",
       "        vertical-align: middle;\n",
       "    }\n",
       "\n",
       "    .dataframe tbody tr th {\n",
       "        vertical-align: top;\n",
       "    }\n",
       "\n",
       "    .dataframe thead th {\n",
       "        text-align: right;\n",
       "    }\n",
       "</style>\n",
       "<table border=\"1\" class=\"dataframe\">\n",
       "  <thead>\n",
       "    <tr style=\"text-align: right;\">\n",
       "      <th></th>\n",
       "      <th>count</th>\n",
       "    </tr>\n",
       "    <tr>\n",
       "      <th>salary</th>\n",
       "      <th></th>\n",
       "    </tr>\n",
       "  </thead>\n",
       "  <tbody>\n",
       "    <tr>\n",
       "      <th>high</th>\n",
       "      <td>82</td>\n",
       "    </tr>\n",
       "    <tr>\n",
       "      <th>low</th>\n",
       "      <td>2172</td>\n",
       "    </tr>\n",
       "    <tr>\n",
       "      <th>medium</th>\n",
       "      <td>1317</td>\n",
       "    </tr>\n",
       "  </tbody>\n",
       "</table>\n",
       "</div>"
      ],
      "text/plain": [
       "        count\n",
       "salary       \n",
       "high       82\n",
       "low      2172\n",
       "medium   1317"
      ]
     },
     "execution_count": 36,
     "metadata": {},
     "output_type": "execute_result"
    }
   ],
   "source": [
    "wage_grby_lss"
   ]
  },
  {
   "cell_type": "code",
   "execution_count": 37,
   "metadata": {},
   "outputs": [
    {
     "data": {
      "text/plain": [
       "Ttest_indResult(statistic=-1.7947580052970216, pvalue=0.1471332863683946)"
      ]
     },
     "execution_count": 37,
     "metadata": {},
     "output_type": "execute_result"
    }
   ],
   "source": [
    "stats.ttest_ind(\n",
    "    wage_grby_lss['count'],\n",
    "    wage_grby_act['count']\n",
    ")"
   ]
  },
  {
   "cell_type": "code",
   "execution_count": 38,
   "metadata": {},
   "outputs": [
    {
     "data": {
      "text/plain": [
       "Ttest_1sampResult(statistic=-4.317179595143227, pvalue=0.04968869782716327)"
      ]
     },
     "execution_count": 38,
     "metadata": {},
     "output_type": "execute_result"
    }
   ],
   "source": [
    "stats.ttest_1samp(\n",
    "    wage_grby_lss['count'],\n",
    "    wage_grby_act['count'].mean()\n",
    ")"
   ]
  },
  {
   "cell_type": "markdown",
   "metadata": {},
   "source": [
    "P-value на этот раз свидетельствует о верности нулевой гипотезы: низкий уровень оплаты труда мог стать причиной увольнения персонала. Проверим:"
   ]
  },
  {
   "cell_type": "code",
   "execution_count": 39,
   "metadata": {},
   "outputs": [
    {
     "data": {
      "text/html": [
       "<div>\n",
       "<style scoped>\n",
       "    .dataframe tbody tr th:only-of-type {\n",
       "        vertical-align: middle;\n",
       "    }\n",
       "\n",
       "    .dataframe tbody tr th {\n",
       "        vertical-align: top;\n",
       "    }\n",
       "\n",
       "    .dataframe thead th {\n",
       "        text-align: right;\n",
       "    }\n",
       "</style>\n",
       "<table border=\"1\" class=\"dataframe\">\n",
       "  <thead>\n",
       "    <tr style=\"text-align: right;\">\n",
       "      <th></th>\n",
       "      <th>count</th>\n",
       "      <th>percentage</th>\n",
       "    </tr>\n",
       "    <tr>\n",
       "      <th>salary</th>\n",
       "      <th></th>\n",
       "      <th></th>\n",
       "    </tr>\n",
       "  </thead>\n",
       "  <tbody>\n",
       "    <tr>\n",
       "      <th>high</th>\n",
       "      <td>82</td>\n",
       "      <td>2.30</td>\n",
       "    </tr>\n",
       "    <tr>\n",
       "      <th>medium</th>\n",
       "      <td>1317</td>\n",
       "      <td>36.88</td>\n",
       "    </tr>\n",
       "    <tr>\n",
       "      <th>low</th>\n",
       "      <td>2172</td>\n",
       "      <td>60.82</td>\n",
       "    </tr>\n",
       "  </tbody>\n",
       "</table>\n",
       "</div>"
      ],
      "text/plain": [
       "        count  percentage\n",
       "salary                   \n",
       "high       82        2.30\n",
       "medium   1317       36.88\n",
       "low      2172       60.82"
      ]
     },
     "execution_count": 39,
     "metadata": {},
     "output_type": "execute_result"
    }
   ],
   "source": [
    "wage_cnt2 = loss_stuff.groupby(\n",
    "    'salary',sort = False)['number_project'].agg(['count']).sort_values(by=['count'])\n",
    "def calc_percentage4(x):\n",
    "    perctg = float(x/wage_cnt2['count'].sum())*100 \n",
    "    return round(perctg,2)\n",
    "wage_cnt2['percentage'] = wage_cnt2.apply(calc_percentage4, axis = 1)\n",
    "wage_cnt2"
   ]
  },
  {
   "cell_type": "markdown",
   "metadata": {},
   "source": [
    "Числа говорят сами за себя: в когорте выбывших доля низкооплачиваемых составила более 60% (в оставшихся - около 45%), тогда как, высокооплачиваемых - только 2% (в оставшихся - около 10%)"
   ]
  },
  {
   "cell_type": "markdown",
   "metadata": {},
   "source": [
    "# СПАСИБО ЗА ВНИМАНИЕ!"
   ]
  }
 ],
 "metadata": {
  "kernelspec": {
   "display_name": "Python 3",
   "language": "python",
   "name": "python3"
  },
  "language_info": {
   "codemirror_mode": {
    "name": "ipython",
    "version": 3
   },
   "file_extension": ".py",
   "mimetype": "text/x-python",
   "name": "python",
   "nbconvert_exporter": "python",
   "pygments_lexer": "ipython3",
   "version": "3.7.3"
  }
 },
 "nbformat": 4,
 "nbformat_minor": 2
}
