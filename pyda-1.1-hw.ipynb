{
 "cells": [
  {
   "cell_type": "markdown",
   "metadata": {},
   "source": [
    "**Задание 1**. Даны 2 строки: *long_phrase* и *short_phrase*. \n",
    "Напишите код, который проверяет действительно ли длинная фраза *long_phrase* длиннее короткой *short_phrase*. И выводит *True* или *False* в зависимости от результата сравнения."
   ]
  },
  {
   "cell_type": "code",
   "execution_count": 2,
   "metadata": {},
   "outputs": [],
   "source": [
    "long_phrase = 'Насколько проще было бы писать программы, если бы не заказчики'\n",
    "short_phrase = '640Кб должно хватить для любых задач. Билл Гейтс (по легенде)'"
   ]
  },
  {
   "cell_type": "code",
   "execution_count": 3,
   "metadata": {},
   "outputs": [
    {
     "data": {
      "text/plain": [
       "True"
      ]
     },
     "execution_count": 3,
     "metadata": {},
     "output_type": "execute_result"
    }
   ],
   "source": [
    "len(long_phrase)>len(short_phrase)"
   ]
  },
  {
   "cell_type": "markdown",
   "metadata": {},
   "source": [
    "**Задание 2**. Дано значение объема файла в байтах. Напишите перевод этого значения в мегабайты в формате: \"*Объем файла равен 213.68Mb*\""
   ]
  },
  {
   "cell_type": "code",
   "execution_count": 15,
   "metadata": {},
   "outputs": [
    {
     "name": "stdout",
     "output_type": "stream",
     "text": [
      "Введите объём файла в байтах 234324\n",
      "Объём файла равен 0.22 Mb\n"
     ]
    }
   ],
   "source": [
    "byte_input = int(input('Введите объём файла в байтах '))\n",
    "mb_output = byte_input/1048576\n",
    "print ('Объём файла равен' ,round(mb_output,2),'Mb')"
   ]
  },
  {
   "cell_type": "markdown",
   "metadata": {},
   "source": [
    "**Задание 3**. Разработать приложение для определения знака зодиака по дате рождения. Пример:\n",
    "\n",
    "Введите месяц: март\n",
    "\n",
    "Введите число: 6\n",
    "\n",
    "Вывод:\n",
    "Рыбы"
   ]
  },
  {
   "cell_type": "code",
   "execution_count": 1,
   "metadata": {},
   "outputs": [
    {
     "name": "stdout",
     "output_type": "stream",
     "text": [
      "Введите месяц рождения по-русски в нижнем регистре февраль\n",
      "Введите дату рождения 29\n",
      "Знак зодиака: Водолей\n"
     ]
    }
   ],
   "source": [
    "month_input = input('Введите месяц рождения по-русски в нижнем регистре ')\n",
    "day_input = int(input('Введите дату рождения '))\n",
    "if month_input == 'март' and  21 <= day_input <= 31 :\n",
    "    print ('Знак зодиака: Овен')\n",
    "elif month_input == 'апрель' and  1 <= day_input <= 19 :\n",
    "    print ('Знак зодиака: Овен')\n",
    "elif month_input == 'апрель' and  20 <= day_input <= 30 :\n",
    "    print ('Знак зодиака: Телец')\n",
    "elif month_input == 'май' and  1 <= day_input <= 20 :\n",
    "    print ('Знак зодиака: Телец')\n",
    "elif month_input == 'май' and  21 <= day_input <= 31 :\n",
    "    print ('Знак зодиака: Близнецы')\n",
    "elif month_input == 'июнь' and  1 <= day_input <= 20 :\n",
    "    print ('Знак зодиака: Близнецы')\n",
    "elif month_input == 'июнь' and  21 <= day_input <= 30 :\n",
    "    print ('Знак зодиака: Рак')\n",
    "elif month_input == 'июль' and  1 <= day_input <= 22 :\n",
    "    print ('Знак зодиака: Рак')\n",
    "elif month_input == 'июль' and  23 <= day_input <= 31 :\n",
    "    print ('Знак зодиака: Лев')\n",
    "elif month_input == 'август' and  1 <= day_input <= 22 :\n",
    "    print ('Знак зодиака: Лев')\n",
    "elif month_input == 'август' and  23 <= day_input <= 31 :\n",
    "    print ('Знак зодиака: Дева')\n",
    "elif month_input == 'сентябрь' and  1 <= day_input <= 22 :\n",
    "    print ('Знак зодиака: Дева')\n",
    "elif month_input == 'сентябрь' and  23 <= day_input <= 30 :\n",
    "    print ('Знак зодиака: Весы')\n",
    "elif month_input == 'октябрь' and  1 <= day_input <= 22 :\n",
    "    print ('Знак зодиака: Весы')\n",
    "elif month_input == 'октябрь' and  23 <= day_input <= 31 :\n",
    "    print ('Знак зодиака: Скорпион')\n",
    "elif month_input == 'ноябрь' and  1 <= day_input <= 21 :\n",
    "    print ('Знак зодиака: Скорпион')\n",
    "elif month_input == 'ноябрь' and  23 <= day_input <= 30 :\n",
    "    print ('Знак зодиака: Стрелец')\n",
    "elif month_input == 'декабрь' and  1 <= day_input <= 21 :\n",
    "    print ('Знак зодиака: Стрелец')\n",
    "elif month_input == 'декабрь' and  22 <= day_input <= 31 :\n",
    "    print ('Знак зодиака: Козерог')\n",
    "elif month_input == 'январь' and  1 <= day_input <= 20 :\n",
    "    print ('Знак зодиака: Козерог')\n",
    "elif month_input == 'январь' and  21 <= day_input <= 31 :\n",
    "    print ('Знак зодиака: Водолей')\n",
    "elif month_input == 'февраль' and  1 <= day_input <= 18 :\n",
    "    print ('Знак зодиака: Водолей')\n",
    "elif month_input == 'февраль' and  19 <= day_input <= 29 :\n",
    "    print ('Знак зодиака: Водолей')\n",
    "elif month_input == 'март' and  1 <= day_input <= 20 :\n",
    "    print ('Знак зодиака: Водолей')\n",
    "else: \n",
    "    print('проверьте, пожалуйста, месяц и дату рождения')"
   ]
  },
  {
   "cell_type": "markdown",
   "metadata": {},
   "source": [
    "**Задание 4**. Нужно разработать приложение для финансового планирования.\n",
    "Приложение учитывает сколько уходит на ипотеку, \"на жизнь\" и сколько нужно отложить на пенсию.\n",
    "Пользователь вводит:\n",
    "- заработанную плату в месяц.\n",
    "- сколько процентов от ЗП уходит на ипотеку.\n",
    "- сколько процентов от ЗП уходит \"на жизнь\".\n",
    "- сколько раз приходит премия в год.\n",
    "\n",
    "Остальная часть заработанной платы откладывается на пенсию.\n",
    "\n",
    "Также пользователю приходит премия в размере зарплаты, от которой половина уходит на отпуск, а вторая половина откладывается.\n",
    "\n",
    "Программа должна учитывать сколько премий было в год.\n",
    "\n",
    "Нужно вывести сколько денег тратит пользователь на ипотеку и сколько он накопит за год.\n",
    "\n",
    "Пример:\n",
    "\n",
    "Введите заработанную плату в месяц: 100000\n",
    "\n",
    "Введите сколько процентов уходит на ипотеку: 30\n",
    "\n",
    "Введите сколько процентов уходит на жизнь: 50\n",
    "\n",
    "Введите количество премий за год: 2\n",
    "\n",
    "Вывод:\n",
    "На ипотеку было потрачено: 360000 рублей\n",
    "Было накоплено: 340000 рублей"
   ]
  },
  {
   "cell_type": "code",
   "execution_count": 3,
   "metadata": {},
   "outputs": [
    {
     "name": "stdout",
     "output_type": "stream",
     "text": [
      "Введите размер зарплаты 100000\n",
      "Введите процент зарплаты на ипотеку 25\n",
      "Введите процент зарплаты на текущие расходы 50\n",
      "Введите количество премий в год 1\n",
      "На ипотеку было потрачено  (300000, 0)  рублей ; Было накоплено  350000.0  рублей.\n"
     ]
    }
   ],
   "source": [
    "salary_input = int(input('Введите размер зарплаты '))\n",
    "hypoteque_input = int(input('Введите процент зарплаты на ипотеку '))\n",
    "expences_input = int(input('Введите процент зарплаты на текущие расходы '))\n",
    "bonus_times_input = int(input('Введите количество премий в год '))\n",
    "\n",
    "net_income_mth = (salary_input*(100 -(hypoteque_input+expences_input)))/100\n",
    "net_bonus = salary_input / 2\n",
    "net_retirement = (net_income_mth*12) + (net_bonus*bonus_times_input)\n",
    "net_hypoteque = ((salary_input*hypoteque_input)/100)*12\n",
    "\n",
    "print ('На ипотеку было потрачено ', net_hypoteque ,' рублей','; Было накоплено ', net_retirement, ' рублей.')"
   ]
  }
 ],
 "metadata": {
  "kernelspec": {
   "display_name": "Python 3",
   "language": "python",
   "name": "python3"
  },
  "language_info": {
   "codemirror_mode": {
    "name": "ipython",
    "version": 3
   },
   "file_extension": ".py",
   "mimetype": "text/x-python",
   "name": "python",
   "nbconvert_exporter": "python",
   "pygments_lexer": "ipython3",
   "version": "3.7.3"
  }
 },
 "nbformat": 4,
 "nbformat_minor": 2
}
