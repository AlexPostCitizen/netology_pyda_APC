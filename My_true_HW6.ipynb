{
 "cells": [
  {
   "cell_type": "markdown",
   "metadata": {},
   "source": [
    "Домашнее задание 6. Задача 1\n",
    "скачайте с сайта grouplens.org/datasets/movielens/ датасет любого размера. Определите, какому фильму было выставлено больше всего оценок 5.0"
   ]
  },
  {
   "cell_type": "code",
   "execution_count": 2,
   "metadata": {},
   "outputs": [],
   "source": [
    "import pandas as pd"
   ]
  },
  {
   "cell_type": "code",
   "execution_count": 6,
   "metadata": {},
   "outputs": [
    {
     "name": "stderr",
     "output_type": "stream",
     "text": [
      "C:\\ProgramData\\Anaconda3\\lib\\site-packages\\ipykernel_launcher.py:1: ParserWarning: Falling back to the 'python' engine because the 'c' engine does not support regex separators (separators > 1 char and different from '\\s+' are interpreted as regex); you can avoid this warning by specifying engine='python'.\n",
      "  \"\"\"Entry point for launching an IPython kernel.\n"
     ]
    }
   ],
   "source": [
    "dfra1 = pd.read_csv('ratings.csv', sep = '::', names=['userID','movieID','rating','date'])"
   ]
  },
  {
   "cell_type": "code",
   "execution_count": 7,
   "metadata": {},
   "outputs": [
    {
     "data": {
      "text/html": [
       "<div>\n",
       "<style scoped>\n",
       "    .dataframe tbody tr th:only-of-type {\n",
       "        vertical-align: middle;\n",
       "    }\n",
       "\n",
       "    .dataframe tbody tr th {\n",
       "        vertical-align: top;\n",
       "    }\n",
       "\n",
       "    .dataframe thead th {\n",
       "        text-align: right;\n",
       "    }\n",
       "</style>\n",
       "<table border=\"1\" class=\"dataframe\">\n",
       "  <thead>\n",
       "    <tr style=\"text-align: right;\">\n",
       "      <th></th>\n",
       "      <th>rating</th>\n",
       "    </tr>\n",
       "    <tr>\n",
       "      <th>movieID</th>\n",
       "      <th></th>\n",
       "    </tr>\n",
       "  </thead>\n",
       "  <tbody>\n",
       "    <tr>\n",
       "      <th>2858</th>\n",
       "      <td>9815</td>\n",
       "    </tr>\n",
       "  </tbody>\n",
       "</table>\n",
       "</div>"
      ],
      "text/plain": [
       "         rating\n",
       "movieID        \n",
       "2858       9815"
      ]
     },
     "execution_count": 7,
     "metadata": {},
     "output_type": "execute_result"
    }
   ],
   "source": [
    "fives = dfra1[dfra1['rating'] == 5]\n",
    "fives.filter(items = ['movieID','rating']).groupby('movieID').aggregate(sum).sort_values('rating', ascending=False).head(1)"
   ]
  },
  {
   "cell_type": "markdown",
   "metadata": {},
   "source": [
    "Домашнее задание 6. Задача 2\n",
    "По данным файла power.csv посчитайте суммарное потребление стран Прибалтики категорий 4,12,21 за период с 2005 по 2010 год. Не учитывайте в расчётах отрицательные значения quantity."
   ]
  },
  {
   "cell_type": "code",
   "execution_count": 55,
   "metadata": {},
   "outputs": [
    {
     "data": {
      "text/plain": [
       "quantity    240580.0\n",
       "dtype: float64"
      ]
     },
     "execution_count": 55,
     "metadata": {},
     "output_type": "execute_result"
    }
   ],
   "source": [
    "dfra2 = pd.read_csv('power.csv')\n",
    "\n",
    "baltic_states = dfra2[ (dfra2['country']=='Lithuania') | (dfra2['country']=='Latvia')| (dfra2['country']=='Estonia') ]\n",
    "\n",
    "certain_category = dfra2[ (dfra2['category']== 4) | (dfra2['category']== 12)| (dfra2['category']== 21) ]\n",
    "\n",
    "certain_date = dfra2[ (dfra2['year']>= 2005) & (dfra2['year']<= 2010)]\n",
    "\n",
    "certain_qua = dfra2[ (dfra2['quantity']>= 0)]\n",
    "\n",
    "certain_data = dfra2[ ((dfra2['country']=='Lithuania') | (dfra2['country']=='Latvia')| (dfra2['country']=='Estonia')) \\\n",
    "                     & ((dfra2['category']== 4)| (dfra2['category']== 12)| (dfra2['category']== 21)) \\\n",
    "                     & ((dfra2['year']>= 2005) & (dfra2['year']<= 2010)) & (dfra2['quantity']>= 0)]\n",
    "\n",
    "the_answer = certain_data.filter(items = ['quantity']).sum()\n",
    "\n",
    "the_answer\n"
   ]
  },
  {
   "cell_type": "markdown",
   "metadata": {},
   "source": [
    "Домашнее задание 6. Задача 3\n",
    "Выберите страницу любого сайта с табличными данными. Импортируйте таблицы в pandas dataframe. Примеры страниц : \n",
    "fortrader.org/quotes\n",
    "finanz.ru/valyuty/v-realnom-vremeni"
   ]
  },
  {
   "cell_type": "code",
   "execution_count": 52,
   "metadata": {},
   "outputs": [
    {
     "data": {
      "text/plain": [
       "[         R                  \n",
       "    Фамилия Дисциплина Оценка\n",
       " 0   Иванов     Физика      4\n",
       " 1   Иванов      Химия      3\n",
       " 2   Петров      Химия      5\n",
       " 3  Сидоров     Физика      5\n",
       " 4  Сидоров      Химия      4,\n",
       "   Базы данных                                      Базы данных.1\n",
       " 0   Концепции  Модель данных Реляционная модель алгебра Норма...\n",
       " 1     Объекты  Отношение (таблица) Представление Хранимая про...\n",
       " 2       Ключи  Потенциальный Первичный Внешний Естественный С...\n",
       " 3         SQL  SELECT INSERT UPDATE MERGE DELETE TRUNCATE JOI...\n",
       " 4        СУБД  IMS DB2 Informix Oracle Database Microsoft SQL...\n",
       " 5  Компоненты  Язык запросов Оптимизатор запросов План выполн...]"
      ]
     },
     "execution_count": 52,
     "metadata": {},
     "output_type": "execute_result"
    }
   ],
   "source": [
    "dfra3 = pd.read_html('https://ru.wikipedia.org/wiki/%D0%9E%D1%82%D0%BD%D0%BE%D1%88%D0%B5%D0%BD%D0%B8%D0%B5_\\\n",
    "(%D1%80%D0%B5%D0%BB%D1%8F%D1%86%D0%B8%D0%BE%D0%BD%D0%BD%D0%B0%D1%8F_%D0%BC%D0%BE%D0%B4%D0%B5%D0%BB%D1%8C)')\n",
    "dfra3"
   ]
  },
  {
   "cell_type": "code",
   "execution_count": 51,
   "metadata": {},
   "outputs": [
    {
     "ename": "URLError",
     "evalue": "<urlopen error [WinError 10013] Сделана попытка доступа к сокету методом, запрещенным правами доступа>",
     "output_type": "error",
     "traceback": [
      "\u001b[1;31m---------------------------------------------------------------------------\u001b[0m",
      "\u001b[1;31mOSError\u001b[0m                                   Traceback (most recent call last)",
      "\u001b[1;32mC:\\ProgramData\\Anaconda3\\lib\\urllib\\request.py\u001b[0m in \u001b[0;36mdo_open\u001b[1;34m(self, http_class, req, **http_conn_args)\u001b[0m\n\u001b[0;32m   1316\u001b[0m                 h.request(req.get_method(), req.selector, req.data, headers,\n\u001b[1;32m-> 1317\u001b[1;33m                           encode_chunked=req.has_header('Transfer-encoding'))\n\u001b[0m\u001b[0;32m   1318\u001b[0m             \u001b[1;32mexcept\u001b[0m \u001b[0mOSError\u001b[0m \u001b[1;32mas\u001b[0m \u001b[0merr\u001b[0m\u001b[1;33m:\u001b[0m \u001b[1;31m# timeout error\u001b[0m\u001b[1;33m\u001b[0m\u001b[1;33m\u001b[0m\u001b[0m\n",
      "\u001b[1;32mC:\\ProgramData\\Anaconda3\\lib\\http\\client.py\u001b[0m in \u001b[0;36mrequest\u001b[1;34m(self, method, url, body, headers, encode_chunked)\u001b[0m\n\u001b[0;32m   1228\u001b[0m         \u001b[1;34m\"\"\"Send a complete request to the server.\"\"\"\u001b[0m\u001b[1;33m\u001b[0m\u001b[1;33m\u001b[0m\u001b[0m\n\u001b[1;32m-> 1229\u001b[1;33m         \u001b[0mself\u001b[0m\u001b[1;33m.\u001b[0m\u001b[0m_send_request\u001b[0m\u001b[1;33m(\u001b[0m\u001b[0mmethod\u001b[0m\u001b[1;33m,\u001b[0m \u001b[0murl\u001b[0m\u001b[1;33m,\u001b[0m \u001b[0mbody\u001b[0m\u001b[1;33m,\u001b[0m \u001b[0mheaders\u001b[0m\u001b[1;33m,\u001b[0m \u001b[0mencode_chunked\u001b[0m\u001b[1;33m)\u001b[0m\u001b[1;33m\u001b[0m\u001b[1;33m\u001b[0m\u001b[0m\n\u001b[0m\u001b[0;32m   1230\u001b[0m \u001b[1;33m\u001b[0m\u001b[0m\n",
      "\u001b[1;32mC:\\ProgramData\\Anaconda3\\lib\\http\\client.py\u001b[0m in \u001b[0;36m_send_request\u001b[1;34m(self, method, url, body, headers, encode_chunked)\u001b[0m\n\u001b[0;32m   1274\u001b[0m             \u001b[0mbody\u001b[0m \u001b[1;33m=\u001b[0m \u001b[0m_encode\u001b[0m\u001b[1;33m(\u001b[0m\u001b[0mbody\u001b[0m\u001b[1;33m,\u001b[0m \u001b[1;34m'body'\u001b[0m\u001b[1;33m)\u001b[0m\u001b[1;33m\u001b[0m\u001b[1;33m\u001b[0m\u001b[0m\n\u001b[1;32m-> 1275\u001b[1;33m         \u001b[0mself\u001b[0m\u001b[1;33m.\u001b[0m\u001b[0mendheaders\u001b[0m\u001b[1;33m(\u001b[0m\u001b[0mbody\u001b[0m\u001b[1;33m,\u001b[0m \u001b[0mencode_chunked\u001b[0m\u001b[1;33m=\u001b[0m\u001b[0mencode_chunked\u001b[0m\u001b[1;33m)\u001b[0m\u001b[1;33m\u001b[0m\u001b[1;33m\u001b[0m\u001b[0m\n\u001b[0m\u001b[0;32m   1276\u001b[0m \u001b[1;33m\u001b[0m\u001b[0m\n",
      "\u001b[1;32mC:\\ProgramData\\Anaconda3\\lib\\http\\client.py\u001b[0m in \u001b[0;36mendheaders\u001b[1;34m(self, message_body, encode_chunked)\u001b[0m\n\u001b[0;32m   1223\u001b[0m             \u001b[1;32mraise\u001b[0m \u001b[0mCannotSendHeader\u001b[0m\u001b[1;33m(\u001b[0m\u001b[1;33m)\u001b[0m\u001b[1;33m\u001b[0m\u001b[1;33m\u001b[0m\u001b[0m\n\u001b[1;32m-> 1224\u001b[1;33m         \u001b[0mself\u001b[0m\u001b[1;33m.\u001b[0m\u001b[0m_send_output\u001b[0m\u001b[1;33m(\u001b[0m\u001b[0mmessage_body\u001b[0m\u001b[1;33m,\u001b[0m \u001b[0mencode_chunked\u001b[0m\u001b[1;33m=\u001b[0m\u001b[0mencode_chunked\u001b[0m\u001b[1;33m)\u001b[0m\u001b[1;33m\u001b[0m\u001b[1;33m\u001b[0m\u001b[0m\n\u001b[0m\u001b[0;32m   1225\u001b[0m \u001b[1;33m\u001b[0m\u001b[0m\n",
      "\u001b[1;32mC:\\ProgramData\\Anaconda3\\lib\\http\\client.py\u001b[0m in \u001b[0;36m_send_output\u001b[1;34m(self, message_body, encode_chunked)\u001b[0m\n\u001b[0;32m   1015\u001b[0m         \u001b[1;32mdel\u001b[0m \u001b[0mself\u001b[0m\u001b[1;33m.\u001b[0m\u001b[0m_buffer\u001b[0m\u001b[1;33m[\u001b[0m\u001b[1;33m:\u001b[0m\u001b[1;33m]\u001b[0m\u001b[1;33m\u001b[0m\u001b[1;33m\u001b[0m\u001b[0m\n\u001b[1;32m-> 1016\u001b[1;33m         \u001b[0mself\u001b[0m\u001b[1;33m.\u001b[0m\u001b[0msend\u001b[0m\u001b[1;33m(\u001b[0m\u001b[0mmsg\u001b[0m\u001b[1;33m)\u001b[0m\u001b[1;33m\u001b[0m\u001b[1;33m\u001b[0m\u001b[0m\n\u001b[0m\u001b[0;32m   1017\u001b[0m \u001b[1;33m\u001b[0m\u001b[0m\n",
      "\u001b[1;32mC:\\ProgramData\\Anaconda3\\lib\\http\\client.py\u001b[0m in \u001b[0;36msend\u001b[1;34m(self, data)\u001b[0m\n\u001b[0;32m    955\u001b[0m             \u001b[1;32mif\u001b[0m \u001b[0mself\u001b[0m\u001b[1;33m.\u001b[0m\u001b[0mauto_open\u001b[0m\u001b[1;33m:\u001b[0m\u001b[1;33m\u001b[0m\u001b[1;33m\u001b[0m\u001b[0m\n\u001b[1;32m--> 956\u001b[1;33m                 \u001b[0mself\u001b[0m\u001b[1;33m.\u001b[0m\u001b[0mconnect\u001b[0m\u001b[1;33m(\u001b[0m\u001b[1;33m)\u001b[0m\u001b[1;33m\u001b[0m\u001b[1;33m\u001b[0m\u001b[0m\n\u001b[0m\u001b[0;32m    957\u001b[0m             \u001b[1;32melse\u001b[0m\u001b[1;33m:\u001b[0m\u001b[1;33m\u001b[0m\u001b[1;33m\u001b[0m\u001b[0m\n",
      "\u001b[1;32mC:\\ProgramData\\Anaconda3\\lib\\http\\client.py\u001b[0m in \u001b[0;36mconnect\u001b[1;34m(self)\u001b[0m\n\u001b[0;32m   1383\u001b[0m \u001b[1;33m\u001b[0m\u001b[0m\n\u001b[1;32m-> 1384\u001b[1;33m             \u001b[0msuper\u001b[0m\u001b[1;33m(\u001b[0m\u001b[1;33m)\u001b[0m\u001b[1;33m.\u001b[0m\u001b[0mconnect\u001b[0m\u001b[1;33m(\u001b[0m\u001b[1;33m)\u001b[0m\u001b[1;33m\u001b[0m\u001b[1;33m\u001b[0m\u001b[0m\n\u001b[0m\u001b[0;32m   1385\u001b[0m \u001b[1;33m\u001b[0m\u001b[0m\n",
      "\u001b[1;32mC:\\ProgramData\\Anaconda3\\lib\\http\\client.py\u001b[0m in \u001b[0;36mconnect\u001b[1;34m(self)\u001b[0m\n\u001b[0;32m    927\u001b[0m         self.sock = self._create_connection(\n\u001b[1;32m--> 928\u001b[1;33m             (self.host,self.port), self.timeout, self.source_address)\n\u001b[0m\u001b[0;32m    929\u001b[0m         \u001b[0mself\u001b[0m\u001b[1;33m.\u001b[0m\u001b[0msock\u001b[0m\u001b[1;33m.\u001b[0m\u001b[0msetsockopt\u001b[0m\u001b[1;33m(\u001b[0m\u001b[0msocket\u001b[0m\u001b[1;33m.\u001b[0m\u001b[0mIPPROTO_TCP\u001b[0m\u001b[1;33m,\u001b[0m \u001b[0msocket\u001b[0m\u001b[1;33m.\u001b[0m\u001b[0mTCP_NODELAY\u001b[0m\u001b[1;33m,\u001b[0m \u001b[1;36m1\u001b[0m\u001b[1;33m)\u001b[0m\u001b[1;33m\u001b[0m\u001b[1;33m\u001b[0m\u001b[0m\n",
      "\u001b[1;32mC:\\ProgramData\\Anaconda3\\lib\\socket.py\u001b[0m in \u001b[0;36mcreate_connection\u001b[1;34m(address, timeout, source_address)\u001b[0m\n\u001b[0;32m    726\u001b[0m     \u001b[1;32mif\u001b[0m \u001b[0merr\u001b[0m \u001b[1;32mis\u001b[0m \u001b[1;32mnot\u001b[0m \u001b[1;32mNone\u001b[0m\u001b[1;33m:\u001b[0m\u001b[1;33m\u001b[0m\u001b[1;33m\u001b[0m\u001b[0m\n\u001b[1;32m--> 727\u001b[1;33m         \u001b[1;32mraise\u001b[0m \u001b[0merr\u001b[0m\u001b[1;33m\u001b[0m\u001b[1;33m\u001b[0m\u001b[0m\n\u001b[0m\u001b[0;32m    728\u001b[0m     \u001b[1;32melse\u001b[0m\u001b[1;33m:\u001b[0m\u001b[1;33m\u001b[0m\u001b[1;33m\u001b[0m\u001b[0m\n",
      "\u001b[1;32mC:\\ProgramData\\Anaconda3\\lib\\socket.py\u001b[0m in \u001b[0;36mcreate_connection\u001b[1;34m(address, timeout, source_address)\u001b[0m\n\u001b[0;32m    715\u001b[0m                 \u001b[0msock\u001b[0m\u001b[1;33m.\u001b[0m\u001b[0mbind\u001b[0m\u001b[1;33m(\u001b[0m\u001b[0msource_address\u001b[0m\u001b[1;33m)\u001b[0m\u001b[1;33m\u001b[0m\u001b[1;33m\u001b[0m\u001b[0m\n\u001b[1;32m--> 716\u001b[1;33m             \u001b[0msock\u001b[0m\u001b[1;33m.\u001b[0m\u001b[0mconnect\u001b[0m\u001b[1;33m(\u001b[0m\u001b[0msa\u001b[0m\u001b[1;33m)\u001b[0m\u001b[1;33m\u001b[0m\u001b[1;33m\u001b[0m\u001b[0m\n\u001b[0m\u001b[0;32m    717\u001b[0m             \u001b[1;31m# Break explicitly a reference cycle\u001b[0m\u001b[1;33m\u001b[0m\u001b[1;33m\u001b[0m\u001b[1;33m\u001b[0m\u001b[0m\n",
      "\u001b[1;31mOSError\u001b[0m: [WinError 10013] Сделана попытка доступа к сокету методом, запрещенным правами доступа",
      "\nDuring handling of the above exception, another exception occurred:\n",
      "\u001b[1;31mURLError\u001b[0m                                  Traceback (most recent call last)",
      "\u001b[1;32m<ipython-input-51-6480611551e7>\u001b[0m in \u001b[0;36m<module>\u001b[1;34m\u001b[0m\n\u001b[1;32m----> 1\u001b[1;33m \u001b[0mdfra3\u001b[0m \u001b[1;33m=\u001b[0m \u001b[0mpd\u001b[0m\u001b[1;33m.\u001b[0m\u001b[0mread_html\u001b[0m\u001b[1;33m(\u001b[0m\u001b[1;34m'https://www.finanz.ru/valyuty/v-realnom-vremeni'\u001b[0m\u001b[1;33m,\u001b[0m\u001b[0mencoding\u001b[0m\u001b[1;33m=\u001b[0m\u001b[1;34m'utf-8'\u001b[0m\u001b[1;33m)\u001b[0m\u001b[1;33m\u001b[0m\u001b[1;33m\u001b[0m\u001b[0m\n\u001b[0m",
      "\u001b[1;32mC:\\ProgramData\\Anaconda3\\lib\\site-packages\\pandas\\io\\html.py\u001b[0m in \u001b[0;36mread_html\u001b[1;34m(io, match, flavor, header, index_col, skiprows, attrs, parse_dates, tupleize_cols, thousands, encoding, decimal, converters, na_values, keep_default_na, displayed_only)\u001b[0m\n\u001b[0;32m   1092\u001b[0m                   \u001b[0mdecimal\u001b[0m\u001b[1;33m=\u001b[0m\u001b[0mdecimal\u001b[0m\u001b[1;33m,\u001b[0m \u001b[0mconverters\u001b[0m\u001b[1;33m=\u001b[0m\u001b[0mconverters\u001b[0m\u001b[1;33m,\u001b[0m \u001b[0mna_values\u001b[0m\u001b[1;33m=\u001b[0m\u001b[0mna_values\u001b[0m\u001b[1;33m,\u001b[0m\u001b[1;33m\u001b[0m\u001b[1;33m\u001b[0m\u001b[0m\n\u001b[0;32m   1093\u001b[0m                   \u001b[0mkeep_default_na\u001b[0m\u001b[1;33m=\u001b[0m\u001b[0mkeep_default_na\u001b[0m\u001b[1;33m,\u001b[0m\u001b[1;33m\u001b[0m\u001b[1;33m\u001b[0m\u001b[0m\n\u001b[1;32m-> 1094\u001b[1;33m                   displayed_only=displayed_only)\n\u001b[0m",
      "\u001b[1;32mC:\\ProgramData\\Anaconda3\\lib\\site-packages\\pandas\\io\\html.py\u001b[0m in \u001b[0;36m_parse\u001b[1;34m(flavor, io, match, attrs, encoding, displayed_only, **kwargs)\u001b[0m\n\u001b[0;32m    914\u001b[0m             \u001b[1;32mbreak\u001b[0m\u001b[1;33m\u001b[0m\u001b[1;33m\u001b[0m\u001b[0m\n\u001b[0;32m    915\u001b[0m     \u001b[1;32melse\u001b[0m\u001b[1;33m:\u001b[0m\u001b[1;33m\u001b[0m\u001b[1;33m\u001b[0m\u001b[0m\n\u001b[1;32m--> 916\u001b[1;33m         \u001b[0mraise_with_traceback\u001b[0m\u001b[1;33m(\u001b[0m\u001b[0mretained\u001b[0m\u001b[1;33m)\u001b[0m\u001b[1;33m\u001b[0m\u001b[1;33m\u001b[0m\u001b[0m\n\u001b[0m\u001b[0;32m    917\u001b[0m \u001b[1;33m\u001b[0m\u001b[0m\n\u001b[0;32m    918\u001b[0m     \u001b[0mret\u001b[0m \u001b[1;33m=\u001b[0m \u001b[1;33m[\u001b[0m\u001b[1;33m]\u001b[0m\u001b[1;33m\u001b[0m\u001b[1;33m\u001b[0m\u001b[0m\n",
      "\u001b[1;32mC:\\ProgramData\\Anaconda3\\lib\\site-packages\\pandas\\compat\\__init__.py\u001b[0m in \u001b[0;36mraise_with_traceback\u001b[1;34m(exc, traceback)\u001b[0m\n\u001b[0;32m    418\u001b[0m         \u001b[1;32mif\u001b[0m \u001b[0mtraceback\u001b[0m \u001b[1;33m==\u001b[0m \u001b[0mEllipsis\u001b[0m\u001b[1;33m:\u001b[0m\u001b[1;33m\u001b[0m\u001b[1;33m\u001b[0m\u001b[0m\n\u001b[0;32m    419\u001b[0m             \u001b[0m_\u001b[0m\u001b[1;33m,\u001b[0m \u001b[0m_\u001b[0m\u001b[1;33m,\u001b[0m \u001b[0mtraceback\u001b[0m \u001b[1;33m=\u001b[0m \u001b[0msys\u001b[0m\u001b[1;33m.\u001b[0m\u001b[0mexc_info\u001b[0m\u001b[1;33m(\u001b[0m\u001b[1;33m)\u001b[0m\u001b[1;33m\u001b[0m\u001b[1;33m\u001b[0m\u001b[0m\n\u001b[1;32m--> 420\u001b[1;33m         \u001b[1;32mraise\u001b[0m \u001b[0mexc\u001b[0m\u001b[1;33m.\u001b[0m\u001b[0mwith_traceback\u001b[0m\u001b[1;33m(\u001b[0m\u001b[0mtraceback\u001b[0m\u001b[1;33m)\u001b[0m\u001b[1;33m\u001b[0m\u001b[1;33m\u001b[0m\u001b[0m\n\u001b[0m\u001b[0;32m    421\u001b[0m \u001b[1;32melse\u001b[0m\u001b[1;33m:\u001b[0m\u001b[1;33m\u001b[0m\u001b[1;33m\u001b[0m\u001b[0m\n\u001b[0;32m    422\u001b[0m     \u001b[1;31m# this version of raise is a syntax error in Python 3\u001b[0m\u001b[1;33m\u001b[0m\u001b[1;33m\u001b[0m\u001b[1;33m\u001b[0m\u001b[0m\n",
      "\u001b[1;31mURLError\u001b[0m: <urlopen error [WinError 10013] Сделана попытка доступа к сокету методом, запрещенным правами доступа>"
     ]
    }
   ],
   "source": [
    "dfra4 = pd.read_html('https://www.finanz.ru/valyuty/v-realnom-vremeni',encoding='utf-8')\n",
    "dfra4"
   ]
  },
  {
   "cell_type": "code",
   "execution_count": 54,
   "metadata": {},
   "outputs": [
    {
     "data": {
      "text/plain": [
       "[                               Type    Last   Chg.  Chg.%  Time\n",
       " 0  Нефть (BRENT) Курс нефти сегодня  63.060 -0.340 -0.540   NaN\n",
       " 1   Нефть (WTI) Цены на нефть (WTI)  58.040 -0.360 -0.620   NaN\n",
       " 2          Сахар котировки на сахар  12.630  0.000  0.000   NaN\n",
       " 3                   Газ Цена на газ   2.558  0.005  0.196   NaN,\n",
       "                                     Type          Last      Chg.   Chg.%  Time\n",
       " 0                      ВТБ Акции ОАО ВТБ       0.04289  +0.00081  1.9249   NaN\n",
       " 1                 Газпром Акции газпрома     228.91000     -1.11 -0.4800   NaN\n",
       " 2                    Лукоил Акции Лукойл    5377.50000     -49.5 -0.9000   NaN\n",
       " 3                Роснефть Акции Роснефти     425.85000     -3.15 -0.7300   NaN\n",
       " 4               Сбербанк Акции Сбербанка     230.52000     +1.14  0.5000   NaN\n",
       " 5   Сургутнефтегаз Акции Сургутнефтегаза      35.31000    -0.120 -0.3390   NaN\n",
       " 6              Норникель Акции Норникель   16188.00000      -148 -1.0000   NaN\n",
       " 7               Аэрофлот Акции Аерофлота     102.75000     +5.94  6.1400   NaN\n",
       " 8            Северсталь Акции Северсталь     955.40000      +1.2  0.1000   NaN\n",
       " 9            Транснефть Акции транснефти  151550.00000   -14 750 -9.0000   NaN\n",
       " 10     Ростелеком Курс акций ростелекома      79.85000     +7.02  9.6400   NaN\n",
       " 11                     RUSAL акции RUSAL       3.40000      -0.0 -0.9000   NaN,\n",
       "                           Type      Last    Chg.   Chg.%  Time\n",
       " 0      Серебро Цена на серебро    18.367  -0.257 -1.3800   NaN\n",
       " 1      Платина Цены на платину   948.400  -9.100 -1.0000   NaN\n",
       " 2    Палладий Цена на палладий  1632.300  11.250  0.6900   NaN\n",
       " 3      Медь Цена меди на бирже     2.608  -0.008 -0.3058   NaN\n",
       " 4  Золото Цена золота на бирже  1519.000  -2.970 -0.2000   NaN,\n",
       "                                 Type    Last   Chg.  Chg.%  Time\n",
       " 0               Яндекс Акции яндекса   36.51  -0.05  -0.14   NaN\n",
       " 1          Microsoft Microsoft Corp.  139.95   0.63   0.45   NaN\n",
       " 2                  APPLE Акции APPLE  220.72   1.80   0.82   NaN\n",
       " 3                Toyota Акции Тойоты  120.94   0.00   0.00   NaN\n",
       " 4   Volkswagen Курс акций Volkswagen  155.20  -3.85  -2.42   NaN\n",
       " 5       Facebook Цена акций Facebook  187.21   0.46   0.25   NaN\n",
       " 6          Tesla Цены на акции Тесла  239.22  -2.13  -0.88   NaN\n",
       " 7          Twiter Цена акций твитера   43.49   0.12   0.28   NaN\n",
       " 8  Hasbro Цена на акции Hasbro, Inc.  118.04  33.17  39.08   NaN,\n",
       "                                                 Type       Last     Chg.  \\\n",
       " 0                         EURUSD Курс евро к доллару    1.10000  0.00074   \n",
       " 1   AUDUSD Курс австралийского доллара к доллару сша    0.67941  0.00214   \n",
       " 2         AUDCAD Australian Dollar / Canadian Dollar    0.90061  0.00246   \n",
       " 3                          EURCHF Euro / Swiss Franc    1.08756 -0.00028   \n",
       " 4                  EURGBP Euro / Great Britain Pound    0.88133 -0.00278   \n",
       " 5                         EURJPY Euro / Japanese Yen  118.42700  0.22700   \n",
       " 6          GBPJPY Great Britain Pound / Japanese Yen  134.34000  0.72600   \n",
       " 7                        GBPUSD Курс фунта к доллару    1.24787  0.00505   \n",
       " 8       USDCAD Курс канадского доллара к доллару сша    1.32545 -0.00076   \n",
       " 9              NZDUSD New Zealand Dollar / US Dollar    0.63217  0.00327   \n",
       " 10                    USDCHF US Dollar / Swiss Franc    0.98862 -0.00102   \n",
       " 11         USDCNH Курс китайского юаня к доллару США    7.10666 -0.00263   \n",
       " 12                        USDJPY Курс йены к доллару  107.65400  0.12600   \n",
       " \n",
       "       Chg.%  Time  \n",
       " 0   0.06732   NaN  \n",
       " 1   0.31597   NaN  \n",
       " 2   0.27390   NaN  \n",
       " 3  -0.02574   NaN  \n",
       " 4  -0.31444   NaN  \n",
       " 5   0.19200   NaN  \n",
       " 6   0.54300   NaN  \n",
       " 7   0.40633   NaN  \n",
       " 8  -0.05731   NaN  \n",
       " 9   0.51996   NaN  \n",
       " 10 -0.10307   NaN  \n",
       " 11 -0.03699   NaN  \n",
       " 12  0.11700   NaN  ,\n",
       "                                                  Type          Last  \\\n",
       " 0                               Bitcoin Курс биткоина    9634.80000   \n",
       " 1          Litecoin Курс лайткоин к доллару (LTC/USD)      65.94200   \n",
       " 2   BitcoinCash Курс Биткоин кеш к доллару США (BC...     285.85000   \n",
       " 3                                           Dash Dash      86.09000   \n",
       " 4                                       Ripple Ripple       0.26469   \n",
       " 5                                   Ethereum Ethereum     195.09300   \n",
       " 6                                   EmerCoin EmerCoin       0.14005   \n",
       " 7                                   NameCoin NameCoin       0.27400   \n",
       " 8                                   PeerCoin PeerCoin       1.30000   \n",
       " 9                             BTCRUB биткоин в рублях  247059.00000   \n",
       " 10                              BTCEUR биткоин в евро    8735.80000   \n",
       " 11                                        Zcash (ZEC)      44.70800   \n",
       " 12                                          NEO (NEO)       8.56760   \n",
       " 13                                          EOS (EOS)       3.57730   \n",
       " 14                                         TRON (TRX)       0.01565   \n",
       " 15                                             Monero      67.61500   \n",
       " 16                                            Cardano       0.04900   \n",
       " 17                                               IOTA       0.27646   \n",
       " 18                       ETC/USD эфириум классик, ETC       5.79010   \n",
       " \n",
       "          Chg.     Chg.%  Time  \n",
       " 0    -128.170  -1.31300   NaN  \n",
       " 1      -0.461  -0.69400   NaN  \n",
       " 2     -15.310  -5.08400   NaN  \n",
       " 3      -2.460  -2.77800   NaN  \n",
       " 4    -0.01318  -4.74323   NaN  \n",
       " 5      -9.585  -4.68300   NaN  \n",
       " 6     0.00000   0.00000   NaN  \n",
       " 7      -0.051 -15.69200   NaN  \n",
       " 8       +0.16  14.04000   NaN  \n",
       " 9   -3 097.00  -1.24000   NaN  \n",
       " 10   -131.620  -1.48400   NaN  \n",
       " 11     +0.569   1.28900   NaN  \n",
       " 12    -0.0566  -0.65630   NaN  \n",
       " 13    -0.1149  -3.11200   NaN  \n",
       " 14   -0.00032  -2.02216   NaN  \n",
       " 15     -0.942  -1.37400   NaN  \n",
       " 16     -0.000  -0.18300   NaN  \n",
       " 17   -0.00065  -0.23456   NaN  \n",
       " 18    -0.0268  -0.46070   NaN  ,\n",
       "                                        Type       Last    Chg.  Chg.%  Time\n",
       " 0   Фьючерс РТС Курс фьючерса на индекс РТС  118130.00    0.00   0.00   NaN\n",
       " 1                      РТС Курс индекса РТС    1361.05   -5.90  -0.43   NaN\n",
       " 2                                     DAX30   12339.60    2.00   0.00   NaN\n",
       " 3                       Индекс Dow 30 (DJI)   27003.00    8.00   0.00   NaN\n",
       " 4                                      FTSE    7137.70 -155.80  -2.10   NaN\n",
       " 5                                    CAC 40    5279.70    0.00   0.00   NaN\n",
       " 6                                Nasdaq 100    7869.30    2.28   0.03   NaN\n",
       " 7                              Russell 2000    1594.50    6.20   0.40   NaN\n",
       " 8                                   S&P 500    2816.30   10.80   0.40   NaN\n",
       " 9                                   IBEX 35    9137.40   43.80   0.50   NaN\n",
       " 10                               Nikkei 225   21779.00   39.00   0.00   NaN\n",
       " 11                            Euro Stoxx 50    3540.90    1.90   0.10   NaN\n",
       " 12                                  S&P 500    3000.50    8.40   0.30   NaN\n",
       " 13                              S&P/ASX 200    6734.80   -0.80  -0.00   NaN\n",
       " 14                                      MIB   21848.00    5.00   0.00   NaN,\n",
       "                                Type     Last    Chg.   Chg.%  Time\n",
       " 0  EURRUB Курс евро к рублю сегодня  70.0094 -0.0336 -0.0480   NaN\n",
       " 1       USDRUB Курс рубля к доллару  63.6798  0.2068  0.3258   NaN]"
      ]
     },
     "execution_count": 54,
     "metadata": {},
     "output_type": "execute_result"
    }
   ],
   "source": [
    "dfra5 = pd.read_html('https://www.fortrader.org/quotes')\n",
    "dfra5"
   ]
  }
 ],
 "metadata": {
  "kernelspec": {
   "display_name": "Python 3",
   "language": "python",
   "name": "python3"
  },
  "language_info": {
   "codemirror_mode": {
    "name": "ipython",
    "version": 3
   },
   "file_extension": ".py",
   "mimetype": "text/x-python",
   "name": "python",
   "nbconvert_exporter": "python",
   "pygments_lexer": "ipython3",
   "version": "3.7.3"
  }
 },
 "nbformat": 4,
 "nbformat_minor": 2
}
