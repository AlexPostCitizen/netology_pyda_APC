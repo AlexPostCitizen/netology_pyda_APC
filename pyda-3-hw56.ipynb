{
 "cells": [
  {
   "cell_type": "markdown",
   "metadata": {},
   "source": [
    "## Задание 1"
   ]
  },
  {
   "cell_type": "markdown",
   "metadata": {},
   "source": [
    "Дан список вида:"
   ]
  },
  {
   "cell_type": "code",
   "execution_count": 28,
   "metadata": {},
   "outputs": [],
   "source": [
    "data = [\n",
    "    [13, 25, 23, 34],\n",
    "    [45, 32, 44, 47],\n",
    "    [12, 33, 23, 95],\n",
    "    [13, 53, 34, 35]\n",
    "]\n",
    "\n",
    "def cross_sum(matrix):\n",
    "    cross_list = []\n",
    "    i = 0\n",
    "    num_strings = len(matrix)\n",
    "    for any_list in matrix:\n",
    "        cross_list.append(matrix[i][i])\n",
    "        i += 1\n",
    "        if i > num_strings:\n",
    "            break\n",
    "    result = sum(cross_list)\n",
    "    return result\n"
   ]
  },
  {
   "cell_type": "code",
   "execution_count": 29,
   "metadata": {},
   "outputs": [
    {
     "data": {
      "text/plain": [
       "103"
      ]
     },
     "execution_count": 29,
     "metadata": {},
     "output_type": "execute_result"
    }
   ],
   "source": [
    "cross_sum(data)"
   ]
  },
  {
   "cell_type": "markdown",
   "metadata": {},
   "source": [
    "Напишите функцию, которая возвращает сумму элементов на диагонали. Т. е. 13+32+23+35."
   ]
  },
  {
   "cell_type": "markdown",
   "metadata": {},
   "source": [
    "## Задание 2"
   ]
  },
  {
   "cell_type": "markdown",
   "metadata": {},
   "source": [
    "Дан список чисел, часть из которых имеют строковый тип или содержат буквы. Напишите функцию, которая возвращает сумму квадратов элементов, которые могут быть числами."
   ]
  },
  {
   "cell_type": "code",
   "execution_count": 11,
   "metadata": {},
   "outputs": [],
   "source": [
    "data = [1, '5', 'abc', 20, '2']"
   ]
  },
  {
   "cell_type": "code",
   "execution_count": 16,
   "metadata": {},
   "outputs": [],
   "source": [
    "def sum_of_powers_list(a_list,a_power):\n",
    "    digi_data = []\n",
    "    pow_digi_list = []\n",
    "    for a_sign in a_list:\n",
    "        #if a_sign.isdigit():\n",
    "        if type(a_sign) == int or a_sign.isdigit():\n",
    "            digi_data.append(int(a_sign))\n",
    "    for every_digit in digi_data:\n",
    "        pow_digi_list.append(pow(every_digit,a_power))\n",
    "    squ_sum = sum(pow_digi_list)\n",
    "    return squ_sum"
   ]
  },
  {
   "cell_type": "code",
   "execution_count": 17,
   "metadata": {},
   "outputs": [
    {
     "data": {
      "text/plain": [
       "430"
      ]
     },
     "execution_count": 17,
     "metadata": {},
     "output_type": "execute_result"
    }
   ],
   "source": [
    "sum_of_powers_list(data,2)"
   ]
  },
  {
   "cell_type": "markdown",
   "metadata": {},
   "source": [
    "## Задание 3"
   ]
  },
  {
   "cell_type": "markdown",
   "metadata": {},
   "source": [
    "Напишите функцию, возвращающую сумму первых n чисел Фибоначчи."
   ]
  },
  {
   "cell_type": "code",
   "execution_count": 18,
   "metadata": {},
   "outputs": [],
   "source": [
    "def Fibo_nums_sum(n):         #where n is quontity of Fibonacci numbers\n",
    "    fibo_list = []\n",
    "    fi1 = 1\n",
    "    fi2 = 1\n",
    "    dig = int(n) \n",
    "    i = 0\n",
    "    if  dig < 2:\n",
    "        return dig\n",
    "    fibo_list.append(fi1)\n",
    "    fibo_list.append(fi2)\n",
    "    while i < dig - 2: \n",
    "        sum_fibo = fi1 + fi2  \n",
    "        fi1 = fi2 \n",
    "        fi2 = sum_fibo \n",
    "        i += 1 \n",
    "        fibo_list.append(fi2)\n",
    "    return sum(fibo_list)"
   ]
  },
  {
   "cell_type": "code",
   "execution_count": 19,
   "metadata": {},
   "outputs": [
    {
     "data": {
      "text/plain": [
       "54"
      ]
     },
     "execution_count": 19,
     "metadata": {},
     "output_type": "execute_result"
    }
   ],
   "source": [
    "Fibo_nums_sum(8)"
   ]
  },
  {
   "cell_type": "markdown",
   "metadata": {},
   "source": [
    "## Задание 4"
   ]
  },
  {
   "cell_type": "markdown",
   "metadata": {},
   "source": [
    "Дан набор данных об обучении студентов на курсе программирования, который содержит: \n",
    "1) имя\n",
    "2) фамилию \n",
    "3) пол \n",
    "4) наличие у студента опыта в программировании \n",
    "5) набор оценок за домашние работы \n",
    "6) оценку за итоговую работу.\n",
    "\n",
    "Напишите программу, которая будет принимать команду от пользователя и возвращать соотвествующий результат.\n",
    "Список команд: \n",
    "1 - вывести на экран среднюю оценку за все ДЗ по группе и вывести на экран среднюю оценку за экзамен по группе;\n",
    "2 - вывести среднюю оценку за ДЗ и за экзамен по группе в разрезе пола студентов\n",
    "3 - вывести среднюю оценку за ДЗ и за экзамен в разрезе наличия опыта в программировании у студентов.\n",
    "\n",
    "Прогрмма должна быть полностью декомпозирована на функции (кроме объявления функций и вызова итоговой функции в реализации ничего быть не должно)."
   ]
  },
  {
   "cell_type": "code",
   "execution_count": 22,
   "metadata": {},
   "outputs": [],
   "source": [
    "students_list = [\n",
    "    {'name': 'Василий', 'surname': 'Теркин', 'sex': 'м', 'program_exp': True, 'grade': [8, 8, 9, 10, 9], 'exam': 9},\n",
    "    {'name': 'Мария', 'surname': 'Павлова', 'sex': 'ж', 'program_exp': True, 'grade': [7, 8, 9, 7, 9], 'exam': 8},\n",
    "    {'name': 'Ирина', 'surname': 'Андреева', 'sex': 'ж', 'program_exp': True, 'grade': [10, 9, 8, 10, 10], 'exam': 10},\n",
    "    {'name': 'Татьяна', 'surname': 'Сидорова', 'sex': 'ж', 'program_exp': True, 'grade': [7, 8, 8, 9, 8], 'exam': 8},\n",
    "    {'name': 'Иван', 'surname': 'Васильев', 'sex': 'ж', 'program_exp': True, 'grade': [9, 8, 9, 6, 9], 'exam': 10},\n",
    "    {'name': 'Роман', 'surname': 'Золотарев', 'sex': 'ж', 'program_exp': False, 'grade': [8, 9, 9, 6, 9], 'exam': 10}\n",
    "]"
   ]
  },
  {
   "cell_type": "code",
   "execution_count": 23,
   "metadata": {},
   "outputs": [
    {
     "name": "stdout",
     "output_type": "stream",
     "text": [
      "1 - вывести на экран среднюю оценку за все ДЗ по группе и вывести на экран среднюю оценку за экзамен по группе\n",
      "2 - вывести среднюю оценку за ДЗ и за экзамен по группе в разрезе пола студентов\n",
      "3 - вывести среднюю оценку за ДЗ и за экзамен в разрезе наличия опыта в программировании у студентов\n",
      "введите команду от 1 до 3: 2\n",
      "средняя оценка по д/з в группе(мужчины): 8.8 ;                   средняя оценка за экзамен в группе (мужчины):9.0;                   средняя оценка по д/з в группе(женщины): 8.36 ;                  средняя оценка за экзамен (женщины): 9.2.\n"
     ]
    }
   ],
   "source": [
    "def x (entire_list):\n",
    "    mrk_list =[]\n",
    "    ex_list = []\n",
    "    studs_quan = len(entire_list)\n",
    "    for student in entire_list:\n",
    "        mrk_quan = len(student['grade'])  \n",
    "        mrk_list.append(sum(student['grade']))\n",
    "        ex_list.append(student['exam'])\n",
    "        hw_avg1 = round(sum(mrk_list)/studs_quan/mrk_quan,2)\n",
    "        ex_avg1 = round(sum(ex_list)/studs_quan,2)  \n",
    "        global resx\n",
    "        resx = (hw_avg1,ex_avg1)\n",
    "    return  resx \n",
    "def aver_sex_hwex (argm):\n",
    "    a_list = argm\n",
    "    male_list = []\n",
    "    fe_list = []\n",
    "    for student in a_list:\n",
    "        if student['sex'] == 'м':\n",
    "            male_list.append(student)\n",
    "            global male_avg\n",
    "            male_avg = x(male_list) \n",
    "        elif student['sex'] == 'ж':\n",
    "            fe_list.append(student)\n",
    "            global fe_avg\n",
    "            fe_avg = x(fe_list)\n",
    "        else:\n",
    "            print('Gender Error. Watch the input list!')\n",
    "    return male_avg, fe_avg\n",
    "def aver_exp_hwex (argum):\n",
    "    b_list = argum\n",
    "    exp_list = []\n",
    "    jun_list = []\n",
    "    for student in b_list:\n",
    "        if student['program_exp'] is True:\n",
    "            exp_list.append(student)\n",
    "            global exp_avg\n",
    "            exp_avg = x(exp_list) \n",
    "        elif student['program_exp'] is False:\n",
    "            jun_list.append(student)\n",
    "            global jun_avg\n",
    "            jun_avg = x(jun_list)\n",
    "        else:\n",
    "            print('Experience Error. Watch the input list!')\n",
    "    return exp_avg, jun_avg\n",
    "def aver_mark_output():\n",
    "    x (students_list)\n",
    "    return print(f\"средняя оценка по д/з в группе: {resx[0]} ; средняя оценка за экзамен в группе: : {resx[1]}.\")\n",
    "def aver_sex_output():\n",
    "    aver_sex_hwex (students_list)\n",
    "    return print(f\"средняя оценка по д/з в группе(мужчины): {male_avg[0]} ;\\\n",
    "                   средняя оценка за экзамен в группе (мужчины):{male_avg[1]};\\\n",
    "                   средняя оценка по д/з в группе(женщины): {fe_avg[0]} ;\\\n",
    "                  средняя оценка за экзамен (женщины): {fe_avg[1]}.\")\n",
    "def aver_exp_output():\n",
    "    aver_exp_hwex (students_list)\n",
    "    return print(f\"средняя оценка по д/з в группе(опытные): {exp_avg[0]} ;\\\n",
    "                   средняя оценка за экзамен в группе (опытные): {exp_avg[1]}; \\\n",
    "                   средняя оценка по д/з в группе(новички): {jun_avg[0]} ;\\\n",
    "                    средняя оценка за экзамен (новички): {jun_avg[1]}.\")\n",
    "def to_do():\n",
    "    print(f'1 - вывести на экран среднюю оценку за все ДЗ по группе и вывести на экран среднюю оценку за экзамен по группе')\n",
    "    print(f'2 - вывести среднюю оценку за ДЗ и за экзамен по группе в разрезе пола студентов')\n",
    "    print(f'3 - вывести среднюю оценку за ДЗ и за экзамен в разрезе наличия опыта в программировании у студентов')\n",
    "    command = int(input('введите команду от 1 до 3: '))\n",
    "    if command == 1:\n",
    "        aver_mark_output()\n",
    "    elif command == 2:\n",
    "         aver_sex_output()\n",
    "    elif command == 3:\n",
    "        aver_exp_output()\n",
    "    else:\n",
    "        print('Введите, пожалуйста, команду из предлагаемых')\n",
    "    return \n",
    "        \n",
    "to_do()"
   ]
  }
 ],
 "metadata": {
  "kernelspec": {
   "display_name": "Python 3",
   "language": "python",
   "name": "python3"
  },
  "language_info": {
   "codemirror_mode": {
    "name": "ipython",
    "version": 3
   },
   "file_extension": ".py",
   "mimetype": "text/x-python",
   "name": "python",
   "nbconvert_exporter": "python",
   "pygments_lexer": "ipython3",
   "version": "3.7.3"
  }
 },
 "nbformat": 4,
 "nbformat_minor": 2
}
